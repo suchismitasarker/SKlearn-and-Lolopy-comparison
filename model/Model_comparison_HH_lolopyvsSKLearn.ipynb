{
 "cells": [
  {
   "cell_type": "markdown",
   "metadata": {},
   "source": [
    "# Train a model to predict log(Sigma_E0) value at Room Temperature (Starry all)-Solid solution (lolopy)"
   ]
  },
  {
   "cell_type": "markdown",
   "metadata": {},
   "source": [
    "### Created the half-heusler dataset from Starry database "
   ]
  },
  {
   "cell_type": "code",
   "execution_count": 1,
   "metadata": {
    "scrolled": true
   },
   "outputs": [
    {
     "name": "stderr",
     "output_type": "stream",
     "text": [
      "/home/unmagna/anaconda3/lib/python3.7/site-packages/sklearn/utils/deprecation.py:144: FutureWarning: The sklearn.neighbors.unsupervised module is  deprecated in version 0.22 and will be removed in version 0.24. The corresponding classes / functions should instead be imported from sklearn.neighbors. Anything that cannot be imported from sklearn.neighbors is now part of the private API.\n",
      "  warnings.warn(message, FutureWarning)\n"
     ]
    }
   ],
   "source": [
    "%matplotlib inline\n",
    "import matminer\n",
    "import matminer.utils\n",
    "from lolopy.learners import RandomForestRegressor\n",
    "from matminer.data_retrieval import retrieve_MDF\n",
    "from matminer.featurizers.base import MultipleFeaturizer\n",
    "from matminer.featurizers import composition as cf\n",
    "from matminer.featurizers.conversions import StrToComposition\n",
    "from matplotlib import pyplot as plt\n",
    "from matplotlib.colors import LogNorm\n",
    "import numpy as np\n",
    "import pandas as pd\n",
    "import pickle as pkl\n",
    "from sklearn import metrics\n",
    "from sklearn.ensemble import RandomForestRegressor as SKRFRegressor\n",
    "from scipy.stats import norm\n",
    "#from sklearn.ensemble import RandomForestRegressor\n",
    "from sklearn.model_selection import train_test_split, cross_val_score, cross_val_predict, GridSearchCV, ShuffleSplit, KFold\n",
    "import gzip\n",
    "import os\n",
    "import re\n",
    "import csv\n",
    "import datetime\n",
    "import glob\n",
    "import json"
   ]
  },
  {
   "cell_type": "markdown",
   "metadata": {},
   "source": [
    "## Load Training Set"
   ]
  },
  {
   "cell_type": "code",
   "execution_count": 2,
   "metadata": {},
   "outputs": [
    {
     "data": {
      "text/html": [
       "<div>\n",
       "<style scoped>\n",
       "    .dataframe tbody tr th:only-of-type {\n",
       "        vertical-align: middle;\n",
       "    }\n",
       "\n",
       "    .dataframe tbody tr th {\n",
       "        vertical-align: top;\n",
       "    }\n",
       "\n",
       "    .dataframe thead th {\n",
       "        text-align: right;\n",
       "    }\n",
       "</style>\n",
       "<table border=\"1\" class=\"dataframe\">\n",
       "  <thead>\n",
       "    <tr style=\"text-align: right;\">\n",
       "      <th></th>\n",
       "      <th>REFERENCE: doi</th>\n",
       "      <th>FORMULA</th>\n",
       "      <th>IDENTIFIER: sampleid</th>\n",
       "      <th>PROPERTY: Temperature (K)</th>\n",
       "      <th>PROPERTY: Seebeck coefficient (V/K)</th>\n",
       "      <th>PROPERTY: Thermal conductivity (W*m^(-1)*K^(-1))</th>\n",
       "      <th>PROPERTY: Power factor (W*m^(-1)*K^(-2))</th>\n",
       "      <th>PROPERTY: ZT (-)</th>\n",
       "      <th>PROPERTY: Electrical conductivity (S*m^(-1))</th>\n",
       "      <th>PROPERTY: sigma_E_0</th>\n",
       "      <th>PROPERTY: log sigma_E_0</th>\n",
       "      <th>PROPERTY: quality_factor</th>\n",
       "      <th>PROPERTY: log quality_factor</th>\n",
       "      <th>PROPERTY: Seebeck coefficient (muV/K)</th>\n",
       "      <th>|S|(muV/K)</th>\n",
       "      <th>Unnamed: 15</th>\n",
       "      <th>L</th>\n",
       "      <th>L-unit con</th>\n",
       "      <th>Electronic thermal conductivity</th>\n",
       "      <th>Lattice thermal conductivity</th>\n",
       "    </tr>\n",
       "  </thead>\n",
       "  <tbody>\n",
       "    <tr>\n",
       "      <th>0</th>\n",
       "      <td>10.1103/physrevb.85.144120</td>\n",
       "      <td>Mg1 Ag1 Sb1</td>\n",
       "      <td>13325</td>\n",
       "      <td>300.0</td>\n",
       "      <td>0.000075</td>\n",
       "      <td>1.160706</td>\n",
       "      <td>0.000883</td>\n",
       "      <td>0.364145</td>\n",
       "      <td>159606.145900</td>\n",
       "      <td>44460.20650</td>\n",
       "      <td>4.647971</td>\n",
       "      <td>0.552491</td>\n",
       "      <td>NaN</td>\n",
       "      <td>75.225793</td>\n",
       "      <td>75.225793</td>\n",
       "      <td>0.522830</td>\n",
       "      <td>2.022830</td>\n",
       "      <td>2.020000e-08</td>\n",
       "      <td>0.968568</td>\n",
       "      <td>0.192138</td>\n",
       "    </tr>\n",
       "    <tr>\n",
       "      <th>1</th>\n",
       "      <td>10.1007/s11664-010-1278-1</td>\n",
       "      <td>Ag0.355875 Sb0.54405 Te1 Ge0.025</td>\n",
       "      <td>16730</td>\n",
       "      <td>300.0</td>\n",
       "      <td>0.000059</td>\n",
       "      <td>0.819577</td>\n",
       "      <td>NaN</td>\n",
       "      <td>0.123766</td>\n",
       "      <td>88415.512830</td>\n",
       "      <td>18888.16575</td>\n",
       "      <td>4.276190</td>\n",
       "      <td>0.169489</td>\n",
       "      <td>NaN</td>\n",
       "      <td>59.419064</td>\n",
       "      <td>59.419064</td>\n",
       "      <td>0.599156</td>\n",
       "      <td>2.099156</td>\n",
       "      <td>2.100000e-08</td>\n",
       "      <td>0.556794</td>\n",
       "      <td>0.262783</td>\n",
       "    </tr>\n",
       "    <tr>\n",
       "      <th>2</th>\n",
       "      <td>10.1021/ja403653m</td>\n",
       "      <td>Ca0.84 Ce0.16 Ag0.9 Sb1</td>\n",
       "      <td>13266</td>\n",
       "      <td>300.0</td>\n",
       "      <td>0.000070</td>\n",
       "      <td>0.629979</td>\n",
       "      <td>NaN</td>\n",
       "      <td>0.158819</td>\n",
       "      <td>54753.521130</td>\n",
       "      <td>14031.83081</td>\n",
       "      <td>4.147114</td>\n",
       "      <td>0.108597</td>\n",
       "      <td>NaN</td>\n",
       "      <td>69.998214</td>\n",
       "      <td>69.998214</td>\n",
       "      <td>0.546931</td>\n",
       "      <td>2.046931</td>\n",
       "      <td>2.050000e-08</td>\n",
       "      <td>0.336230</td>\n",
       "      <td>0.293749</td>\n",
       "    </tr>\n",
       "    <tr>\n",
       "      <th>3</th>\n",
       "      <td>10.1063/1.2756037</td>\n",
       "      <td>Ag0.9 Cu0.1 Tl1 Te1</td>\n",
       "      <td>14176</td>\n",
       "      <td>300.0</td>\n",
       "      <td>0.000502</td>\n",
       "      <td>0.354364</td>\n",
       "      <td>0.000062</td>\n",
       "      <td>0.061798</td>\n",
       "      <td>266.974996</td>\n",
       "      <td>12221.74494</td>\n",
       "      <td>4.087133</td>\n",
       "      <td>0.077093</td>\n",
       "      <td>NaN</td>\n",
       "      <td>501.855670</td>\n",
       "      <td>501.855670</td>\n",
       "      <td>0.013216</td>\n",
       "      <td>1.513216</td>\n",
       "      <td>1.510000e-08</td>\n",
       "      <td>0.001212</td>\n",
       "      <td>0.353152</td>\n",
       "    </tr>\n",
       "    <tr>\n",
       "      <th>4</th>\n",
       "      <td>10.1063/1.2756037</td>\n",
       "      <td>Ag0.7 Cu0.3 Tl1 Te1</td>\n",
       "      <td>14178</td>\n",
       "      <td>300.0</td>\n",
       "      <td>0.000391</td>\n",
       "      <td>0.366931</td>\n",
       "      <td>0.000144</td>\n",
       "      <td>0.126461</td>\n",
       "      <td>873.326162</td>\n",
       "      <td>11086.85850</td>\n",
       "      <td>4.044809</td>\n",
       "      <td>0.068040</td>\n",
       "      <td>NaN</td>\n",
       "      <td>391.340206</td>\n",
       "      <td>391.340206</td>\n",
       "      <td>0.034265</td>\n",
       "      <td>1.534265</td>\n",
       "      <td>1.530000e-08</td>\n",
       "      <td>0.004020</td>\n",
       "      <td>0.362911</td>\n",
       "    </tr>\n",
       "  </tbody>\n",
       "</table>\n",
       "</div>"
      ],
      "text/plain": [
       "               REFERENCE: doi                           FORMULA  \\\n",
       "0  10.1103/physrevb.85.144120                       Mg1 Ag1 Sb1   \n",
       "1   10.1007/s11664-010-1278-1  Ag0.355875 Sb0.54405 Te1 Ge0.025   \n",
       "2           10.1021/ja403653m           Ca0.84 Ce0.16 Ag0.9 Sb1   \n",
       "3           10.1063/1.2756037               Ag0.9 Cu0.1 Tl1 Te1   \n",
       "4           10.1063/1.2756037               Ag0.7 Cu0.3 Tl1 Te1   \n",
       "\n",
       "  IDENTIFIER: sampleid  PROPERTY: Temperature (K)  \\\n",
       "0                13325                      300.0   \n",
       "1                16730                      300.0   \n",
       "2                13266                      300.0   \n",
       "3                14176                      300.0   \n",
       "4                14178                      300.0   \n",
       "\n",
       "   PROPERTY: Seebeck coefficient (V/K)  \\\n",
       "0                             0.000075   \n",
       "1                             0.000059   \n",
       "2                             0.000070   \n",
       "3                             0.000502   \n",
       "4                             0.000391   \n",
       "\n",
       "   PROPERTY: Thermal conductivity (W*m^(-1)*K^(-1))  \\\n",
       "0                                          1.160706   \n",
       "1                                          0.819577   \n",
       "2                                          0.629979   \n",
       "3                                          0.354364   \n",
       "4                                          0.366931   \n",
       "\n",
       "   PROPERTY: Power factor (W*m^(-1)*K^(-2))  PROPERTY: ZT (-)  \\\n",
       "0                                  0.000883          0.364145   \n",
       "1                                       NaN          0.123766   \n",
       "2                                       NaN          0.158819   \n",
       "3                                  0.000062          0.061798   \n",
       "4                                  0.000144          0.126461   \n",
       "\n",
       "   PROPERTY: Electrical conductivity (S*m^(-1))  PROPERTY: sigma_E_0  \\\n",
       "0                                 159606.145900          44460.20650   \n",
       "1                                  88415.512830          18888.16575   \n",
       "2                                  54753.521130          14031.83081   \n",
       "3                                    266.974996          12221.74494   \n",
       "4                                    873.326162          11086.85850   \n",
       "\n",
       "   PROPERTY: log sigma_E_0  PROPERTY: quality_factor  \\\n",
       "0                 4.647971                  0.552491   \n",
       "1                 4.276190                  0.169489   \n",
       "2                 4.147114                  0.108597   \n",
       "3                 4.087133                  0.077093   \n",
       "4                 4.044809                  0.068040   \n",
       "\n",
       "   PROPERTY: log quality_factor  PROPERTY: Seebeck coefficient (muV/K)  \\\n",
       "0                           NaN                              75.225793   \n",
       "1                           NaN                              59.419064   \n",
       "2                           NaN                              69.998214   \n",
       "3                           NaN                             501.855670   \n",
       "4                           NaN                             391.340206   \n",
       "\n",
       "   |S|(muV/K)  Unnamed: 15         L    L-unit con  \\\n",
       "0   75.225793     0.522830  2.022830  2.020000e-08   \n",
       "1   59.419064     0.599156  2.099156  2.100000e-08   \n",
       "2   69.998214     0.546931  2.046931  2.050000e-08   \n",
       "3  501.855670     0.013216  1.513216  1.510000e-08   \n",
       "4  391.340206     0.034265  1.534265  1.530000e-08   \n",
       "\n",
       "   Electronic thermal conductivity  Lattice thermal conductivity  \n",
       "0                         0.968568                      0.192138  \n",
       "1                         0.556794                      0.262783  \n",
       "2                         0.336230                      0.293749  \n",
       "3                         0.001212                      0.353152  \n",
       "4                         0.004020                      0.362911  "
      ]
     },
     "execution_count": 2,
     "metadata": {},
     "output_type": "execute_result"
    }
   ],
   "source": [
    "#data  = pd.read_csv('C:/Users/sarker/Documents/Document/matminer_copy/Half_Heusler/raw/HH_review_total_github_modified.csv' )\n",
    "#data  = pd.read_csv('/home/unmagna/Documents/slac/matminer/Half_Heusler/raw/HH_review_total_sigma_E0_master_1.csv' )\n",
    "#data = pd.read_csv('/home/unmagna/Documents/slac/matminer/Half_Heusler/raw/HH_review_total_edited_Lattice_Thermal_Conductivity_master.csv')\n",
    "data = pd.read_csv('/home/unmagna/Documents/slac/matminer/Nov2022/TC/data/HH_review_total_edited_Lattice_Thermal_Conductivity_master_manual_Nov22.csv')\n",
    "data.head()"
   ]
  },
  {
   "cell_type": "code",
   "execution_count": 3,
   "metadata": {},
   "outputs": [
    {
     "name": "stdout",
     "output_type": "stream",
     "text": [
      "636\n"
     ]
    },
    {
     "data": {
      "text/html": [
       "<div>\n",
       "<style scoped>\n",
       "    .dataframe tbody tr th:only-of-type {\n",
       "        vertical-align: middle;\n",
       "    }\n",
       "\n",
       "    .dataframe tbody tr th {\n",
       "        vertical-align: top;\n",
       "    }\n",
       "\n",
       "    .dataframe thead th {\n",
       "        text-align: right;\n",
       "    }\n",
       "</style>\n",
       "<table border=\"1\" class=\"dataframe\">\n",
       "  <thead>\n",
       "    <tr style=\"text-align: right;\">\n",
       "      <th></th>\n",
       "      <th>REFERENCE: doi</th>\n",
       "      <th>FORMULA</th>\n",
       "      <th>IDENTIFIER: sampleid</th>\n",
       "      <th>PROPERTY: Temperature (K)</th>\n",
       "      <th>PROPERTY: Seebeck coefficient (V/K)</th>\n",
       "      <th>PROPERTY: Thermal conductivity (W*m^(-1)*K^(-1))</th>\n",
       "      <th>PROPERTY: Power factor (W*m^(-1)*K^(-2))</th>\n",
       "      <th>PROPERTY: ZT (-)</th>\n",
       "      <th>PROPERTY: Electrical conductivity (S*m^(-1))</th>\n",
       "      <th>PROPERTY: sigma_E_0</th>\n",
       "      <th>PROPERTY: log sigma_E_0</th>\n",
       "      <th>PROPERTY: quality_factor</th>\n",
       "      <th>PROPERTY: log quality_factor</th>\n",
       "      <th>PROPERTY: Seebeck coefficient (muV/K)</th>\n",
       "      <th>|S|(muV/K)</th>\n",
       "      <th>Unnamed: 15</th>\n",
       "      <th>L</th>\n",
       "      <th>L-unit con</th>\n",
       "      <th>Electronic thermal conductivity</th>\n",
       "      <th>Lattice thermal conductivity</th>\n",
       "    </tr>\n",
       "  </thead>\n",
       "  <tbody>\n",
       "    <tr>\n",
       "      <th>0</th>\n",
       "      <td>10.1103/physrevb.85.144120</td>\n",
       "      <td>Mg1 Ag1 Sb1</td>\n",
       "      <td>13325</td>\n",
       "      <td>300.0</td>\n",
       "      <td>0.000075</td>\n",
       "      <td>1.160706</td>\n",
       "      <td>0.000883</td>\n",
       "      <td>0.364145</td>\n",
       "      <td>159606.145900</td>\n",
       "      <td>44460.20650</td>\n",
       "      <td>4.647971</td>\n",
       "      <td>0.552491</td>\n",
       "      <td>NaN</td>\n",
       "      <td>75.225793</td>\n",
       "      <td>75.225793</td>\n",
       "      <td>0.522830</td>\n",
       "      <td>2.022830</td>\n",
       "      <td>2.020000e-08</td>\n",
       "      <td>0.968568</td>\n",
       "      <td>0.192138</td>\n",
       "    </tr>\n",
       "    <tr>\n",
       "      <th>1</th>\n",
       "      <td>10.1007/s11664-010-1278-1</td>\n",
       "      <td>Ag0.355875 Sb0.54405 Te1 Ge0.025</td>\n",
       "      <td>16730</td>\n",
       "      <td>300.0</td>\n",
       "      <td>0.000059</td>\n",
       "      <td>0.819577</td>\n",
       "      <td>NaN</td>\n",
       "      <td>0.123766</td>\n",
       "      <td>88415.512830</td>\n",
       "      <td>18888.16575</td>\n",
       "      <td>4.276190</td>\n",
       "      <td>0.169489</td>\n",
       "      <td>NaN</td>\n",
       "      <td>59.419064</td>\n",
       "      <td>59.419064</td>\n",
       "      <td>0.599156</td>\n",
       "      <td>2.099156</td>\n",
       "      <td>2.100000e-08</td>\n",
       "      <td>0.556794</td>\n",
       "      <td>0.262783</td>\n",
       "    </tr>\n",
       "    <tr>\n",
       "      <th>2</th>\n",
       "      <td>10.1021/ja403653m</td>\n",
       "      <td>Ca0.84 Ce0.16 Ag0.9 Sb1</td>\n",
       "      <td>13266</td>\n",
       "      <td>300.0</td>\n",
       "      <td>0.000070</td>\n",
       "      <td>0.629979</td>\n",
       "      <td>NaN</td>\n",
       "      <td>0.158819</td>\n",
       "      <td>54753.521130</td>\n",
       "      <td>14031.83081</td>\n",
       "      <td>4.147114</td>\n",
       "      <td>0.108597</td>\n",
       "      <td>NaN</td>\n",
       "      <td>69.998214</td>\n",
       "      <td>69.998214</td>\n",
       "      <td>0.546931</td>\n",
       "      <td>2.046931</td>\n",
       "      <td>2.050000e-08</td>\n",
       "      <td>0.336230</td>\n",
       "      <td>0.293749</td>\n",
       "    </tr>\n",
       "    <tr>\n",
       "      <th>3</th>\n",
       "      <td>10.1063/1.2756037</td>\n",
       "      <td>Ag0.9 Cu0.1 Tl1 Te1</td>\n",
       "      <td>14176</td>\n",
       "      <td>300.0</td>\n",
       "      <td>0.000502</td>\n",
       "      <td>0.354364</td>\n",
       "      <td>0.000062</td>\n",
       "      <td>0.061798</td>\n",
       "      <td>266.974996</td>\n",
       "      <td>12221.74494</td>\n",
       "      <td>4.087133</td>\n",
       "      <td>0.077093</td>\n",
       "      <td>NaN</td>\n",
       "      <td>501.855670</td>\n",
       "      <td>501.855670</td>\n",
       "      <td>0.013216</td>\n",
       "      <td>1.513216</td>\n",
       "      <td>1.510000e-08</td>\n",
       "      <td>0.001212</td>\n",
       "      <td>0.353152</td>\n",
       "    </tr>\n",
       "    <tr>\n",
       "      <th>4</th>\n",
       "      <td>10.1063/1.2756037</td>\n",
       "      <td>Ag0.7 Cu0.3 Tl1 Te1</td>\n",
       "      <td>14178</td>\n",
       "      <td>300.0</td>\n",
       "      <td>0.000391</td>\n",
       "      <td>0.366931</td>\n",
       "      <td>0.000144</td>\n",
       "      <td>0.126461</td>\n",
       "      <td>873.326162</td>\n",
       "      <td>11086.85850</td>\n",
       "      <td>4.044809</td>\n",
       "      <td>0.068040</td>\n",
       "      <td>NaN</td>\n",
       "      <td>391.340206</td>\n",
       "      <td>391.340206</td>\n",
       "      <td>0.034265</td>\n",
       "      <td>1.534265</td>\n",
       "      <td>1.530000e-08</td>\n",
       "      <td>0.004020</td>\n",
       "      <td>0.362911</td>\n",
       "    </tr>\n",
       "  </tbody>\n",
       "</table>\n",
       "</div>"
      ],
      "text/plain": [
       "               REFERENCE: doi                           FORMULA  \\\n",
       "0  10.1103/physrevb.85.144120                       Mg1 Ag1 Sb1   \n",
       "1   10.1007/s11664-010-1278-1  Ag0.355875 Sb0.54405 Te1 Ge0.025   \n",
       "2           10.1021/ja403653m           Ca0.84 Ce0.16 Ag0.9 Sb1   \n",
       "3           10.1063/1.2756037               Ag0.9 Cu0.1 Tl1 Te1   \n",
       "4           10.1063/1.2756037               Ag0.7 Cu0.3 Tl1 Te1   \n",
       "\n",
       "  IDENTIFIER: sampleid  PROPERTY: Temperature (K)  \\\n",
       "0                13325                      300.0   \n",
       "1                16730                      300.0   \n",
       "2                13266                      300.0   \n",
       "3                14176                      300.0   \n",
       "4                14178                      300.0   \n",
       "\n",
       "   PROPERTY: Seebeck coefficient (V/K)  \\\n",
       "0                             0.000075   \n",
       "1                             0.000059   \n",
       "2                             0.000070   \n",
       "3                             0.000502   \n",
       "4                             0.000391   \n",
       "\n",
       "   PROPERTY: Thermal conductivity (W*m^(-1)*K^(-1))  \\\n",
       "0                                          1.160706   \n",
       "1                                          0.819577   \n",
       "2                                          0.629979   \n",
       "3                                          0.354364   \n",
       "4                                          0.366931   \n",
       "\n",
       "   PROPERTY: Power factor (W*m^(-1)*K^(-2))  PROPERTY: ZT (-)  \\\n",
       "0                                  0.000883          0.364145   \n",
       "1                                       NaN          0.123766   \n",
       "2                                       NaN          0.158819   \n",
       "3                                  0.000062          0.061798   \n",
       "4                                  0.000144          0.126461   \n",
       "\n",
       "   PROPERTY: Electrical conductivity (S*m^(-1))  PROPERTY: sigma_E_0  \\\n",
       "0                                 159606.145900          44460.20650   \n",
       "1                                  88415.512830          18888.16575   \n",
       "2                                  54753.521130          14031.83081   \n",
       "3                                    266.974996          12221.74494   \n",
       "4                                    873.326162          11086.85850   \n",
       "\n",
       "   PROPERTY: log sigma_E_0  PROPERTY: quality_factor  \\\n",
       "0                 4.647971                  0.552491   \n",
       "1                 4.276190                  0.169489   \n",
       "2                 4.147114                  0.108597   \n",
       "3                 4.087133                  0.077093   \n",
       "4                 4.044809                  0.068040   \n",
       "\n",
       "   PROPERTY: log quality_factor  PROPERTY: Seebeck coefficient (muV/K)  \\\n",
       "0                           NaN                              75.225793   \n",
       "1                           NaN                              59.419064   \n",
       "2                           NaN                              69.998214   \n",
       "3                           NaN                             501.855670   \n",
       "4                           NaN                             391.340206   \n",
       "\n",
       "   |S|(muV/K)  Unnamed: 15         L    L-unit con  \\\n",
       "0   75.225793     0.522830  2.022830  2.020000e-08   \n",
       "1   59.419064     0.599156  2.099156  2.100000e-08   \n",
       "2   69.998214     0.546931  2.046931  2.050000e-08   \n",
       "3  501.855670     0.013216  1.513216  1.510000e-08   \n",
       "4  391.340206     0.034265  1.534265  1.530000e-08   \n",
       "\n",
       "   Electronic thermal conductivity  Lattice thermal conductivity  \n",
       "0                         0.968568                      0.192138  \n",
       "1                         0.556794                      0.262783  \n",
       "2                         0.336230                      0.293749  \n",
       "3                         0.001212                      0.353152  \n",
       "4                         0.004020                      0.362911  "
      ]
     },
     "execution_count": 3,
     "metadata": {},
     "output_type": "execute_result"
    }
   ],
   "source": [
    "print(len(data))\n",
    "data.head()"
   ]
  },
  {
   "cell_type": "markdown",
   "metadata": {},
   "source": [
    "### Choosing columns"
   ]
  },
  {
   "cell_type": "code",
   "execution_count": 4,
   "metadata": {},
   "outputs": [
    {
     "data": {
      "text/html": [
       "<div>\n",
       "<style scoped>\n",
       "    .dataframe tbody tr th:only-of-type {\n",
       "        vertical-align: middle;\n",
       "    }\n",
       "\n",
       "    .dataframe tbody tr th {\n",
       "        vertical-align: top;\n",
       "    }\n",
       "\n",
       "    .dataframe thead th {\n",
       "        text-align: right;\n",
       "    }\n",
       "</style>\n",
       "<table border=\"1\" class=\"dataframe\">\n",
       "  <thead>\n",
       "    <tr style=\"text-align: right;\">\n",
       "      <th></th>\n",
       "      <th>FORMULA</th>\n",
       "      <th>Lattice thermal conductivity</th>\n",
       "    </tr>\n",
       "  </thead>\n",
       "  <tbody>\n",
       "    <tr>\n",
       "      <th>0</th>\n",
       "      <td>Mg1 Ag1 Sb1</td>\n",
       "      <td>0.192138</td>\n",
       "    </tr>\n",
       "    <tr>\n",
       "      <th>1</th>\n",
       "      <td>Ag0.355875 Sb0.54405 Te1 Ge0.025</td>\n",
       "      <td>0.262783</td>\n",
       "    </tr>\n",
       "    <tr>\n",
       "      <th>2</th>\n",
       "      <td>Ca0.84 Ce0.16 Ag0.9 Sb1</td>\n",
       "      <td>0.293749</td>\n",
       "    </tr>\n",
       "    <tr>\n",
       "      <th>3</th>\n",
       "      <td>Ag0.9 Cu0.1 Tl1 Te1</td>\n",
       "      <td>0.353152</td>\n",
       "    </tr>\n",
       "    <tr>\n",
       "      <th>4</th>\n",
       "      <td>Ag0.7 Cu0.3 Tl1 Te1</td>\n",
       "      <td>0.362911</td>\n",
       "    </tr>\n",
       "  </tbody>\n",
       "</table>\n",
       "</div>"
      ],
      "text/plain": [
       "                            FORMULA  Lattice thermal conductivity\n",
       "0                       Mg1 Ag1 Sb1                      0.192138\n",
       "1  Ag0.355875 Sb0.54405 Te1 Ge0.025                      0.262783\n",
       "2           Ca0.84 Ce0.16 Ag0.9 Sb1                      0.293749\n",
       "3               Ag0.9 Cu0.1 Tl1 Te1                      0.353152\n",
       "4               Ag0.7 Cu0.3 Tl1 Te1                      0.362911"
      ]
     },
     "execution_count": 4,
     "metadata": {},
     "output_type": "execute_result"
    }
   ],
   "source": [
    "data = data[['FORMULA', 'Lattice thermal conductivity']]\n",
    "#data = data[['FORMULA', 'PROPERTY: log sigma_E_0']]\n",
    "data.head()"
   ]
  },
  {
   "cell_type": "markdown",
   "metadata": {},
   "source": [
    "#### Change the column name"
   ]
  },
  {
   "cell_type": "code",
   "execution_count": 5,
   "metadata": {},
   "outputs": [],
   "source": [
    "#data = data.rename(columns={ 'FORMULA':'composition', 'PROPERTY: log sigma_E_0': 'log_sig_E0'})\n",
    "data = data.rename(columns={ 'FORMULA':'composition', 'Lattice thermal conductivity': 'L_TC'})"
   ]
  },
  {
   "cell_type": "markdown",
   "metadata": {},
   "source": [
    "### All data together"
   ]
  },
  {
   "cell_type": "code",
   "execution_count": 6,
   "metadata": {},
   "outputs": [
    {
     "data": {
      "application/vnd.jupyter.widget-view+json": {
       "model_id": "f5dd2c0fb24441a59d08d495d20530d2",
       "version_major": 2,
       "version_minor": 0
      },
      "text/plain": [
       "HBox(children=(FloatProgress(value=0.0, description='StrToComposition', max=636.0, style=ProgressStyle(descrip…"
      ]
     },
     "metadata": {},
     "output_type": "display_data"
    },
    {
     "name": "stdout",
     "output_type": "stream",
     "text": [
      "\n"
     ]
    }
   ],
   "source": [
    "\n",
    "data = StrToComposition(target_col_id='composition_obj').featurize_dataframe(data, ['composition'], ignore_errors=True);\n",
    "\n",
    "\n",
    "#data = feature_calculators.featurize_dataframe(data, col_id=['composition_obj'], ignore_errors=True);"
   ]
  },
  {
   "cell_type": "code",
   "execution_count": 7,
   "metadata": {},
   "outputs": [
    {
     "name": "stdout",
     "output_type": "stream",
     "text": [
      "636\n"
     ]
    },
    {
     "data": {
      "text/html": [
       "<div>\n",
       "<style scoped>\n",
       "    .dataframe tbody tr th:only-of-type {\n",
       "        vertical-align: middle;\n",
       "    }\n",
       "\n",
       "    .dataframe tbody tr th {\n",
       "        vertical-align: top;\n",
       "    }\n",
       "\n",
       "    .dataframe thead th {\n",
       "        text-align: right;\n",
       "    }\n",
       "</style>\n",
       "<table border=\"1\" class=\"dataframe\">\n",
       "  <thead>\n",
       "    <tr style=\"text-align: right;\">\n",
       "      <th></th>\n",
       "      <th>composition</th>\n",
       "      <th>L_TC</th>\n",
       "      <th>composition_obj</th>\n",
       "    </tr>\n",
       "  </thead>\n",
       "  <tbody>\n",
       "    <tr>\n",
       "      <th>0</th>\n",
       "      <td>Mg1 Ag1 Sb1</td>\n",
       "      <td>0.192138</td>\n",
       "      <td>(Mg, Ag, Sb)</td>\n",
       "    </tr>\n",
       "    <tr>\n",
       "      <th>1</th>\n",
       "      <td>Ag0.355875 Sb0.54405 Te1 Ge0.025</td>\n",
       "      <td>0.262783</td>\n",
       "      <td>(Ag, Sb, Te, Ge)</td>\n",
       "    </tr>\n",
       "    <tr>\n",
       "      <th>2</th>\n",
       "      <td>Ca0.84 Ce0.16 Ag0.9 Sb1</td>\n",
       "      <td>0.293749</td>\n",
       "      <td>(Ca, Ce, Ag, Sb)</td>\n",
       "    </tr>\n",
       "    <tr>\n",
       "      <th>3</th>\n",
       "      <td>Ag0.9 Cu0.1 Tl1 Te1</td>\n",
       "      <td>0.353152</td>\n",
       "      <td>(Ag, Cu, Tl, Te)</td>\n",
       "    </tr>\n",
       "    <tr>\n",
       "      <th>4</th>\n",
       "      <td>Ag0.7 Cu0.3 Tl1 Te1</td>\n",
       "      <td>0.362911</td>\n",
       "      <td>(Ag, Cu, Tl, Te)</td>\n",
       "    </tr>\n",
       "  </tbody>\n",
       "</table>\n",
       "</div>"
      ],
      "text/plain": [
       "                        composition      L_TC   composition_obj\n",
       "0                       Mg1 Ag1 Sb1  0.192138      (Mg, Ag, Sb)\n",
       "1  Ag0.355875 Sb0.54405 Te1 Ge0.025  0.262783  (Ag, Sb, Te, Ge)\n",
       "2           Ca0.84 Ce0.16 Ag0.9 Sb1  0.293749  (Ca, Ce, Ag, Sb)\n",
       "3               Ag0.9 Cu0.1 Tl1 Te1  0.353152  (Ag, Cu, Tl, Te)\n",
       "4               Ag0.7 Cu0.3 Tl1 Te1  0.362911  (Ag, Cu, Tl, Te)"
      ]
     },
     "execution_count": 7,
     "metadata": {},
     "output_type": "execute_result"
    }
   ],
   "source": [
    "print(len(data))\n",
    "#print(data)\n",
    "data.head()"
   ]
  },
  {
   "cell_type": "code",
   "execution_count": 8,
   "metadata": {},
   "outputs": [],
   "source": [
    "for k in ['L_TC']:\n",
    "    data[k] = pd.to_numeric(data[k])\n",
    "\n",
    "#for k in ['log_sig_E0']:\n",
    "#    data[k] = pd.to_numeric(data[k])"
   ]
  },
  {
   "cell_type": "code",
   "execution_count": 9,
   "metadata": {},
   "outputs": [
    {
     "name": "stdout",
     "output_type": "stream",
     "text": [
      "Removed 0/636 entries\n"
     ]
    }
   ],
   "source": [
    "original_count = len(data)\n",
    "data = data[~ data['L_TC'].isnull()]\n",
    "#data = data[~ data['log_sig_E0'].isnull()]\n",
    "print('Removed %d/%d entries'%(original_count - len(data), original_count))"
   ]
  },
  {
   "cell_type": "markdown",
   "metadata": {},
   "source": [
    "## Final processed data"
   ]
  },
  {
   "cell_type": "code",
   "execution_count": 10,
   "metadata": {},
   "outputs": [
    {
     "name": "stdout",
     "output_type": "stream",
     "text": [
      "Removed 172/636 entries\n",
      "CPU times: user 54.1 ms, sys: 1.69 ms, total: 55.8 ms\n",
      "Wall time: 55.4 ms\n"
     ]
    },
    {
     "data": {
      "text/html": [
       "<div>\n",
       "<style scoped>\n",
       "    .dataframe tbody tr th:only-of-type {\n",
       "        vertical-align: middle;\n",
       "    }\n",
       "\n",
       "    .dataframe tbody tr th {\n",
       "        vertical-align: top;\n",
       "    }\n",
       "\n",
       "    .dataframe thead th {\n",
       "        text-align: right;\n",
       "    }\n",
       "</style>\n",
       "<table border=\"1\" class=\"dataframe\">\n",
       "  <thead>\n",
       "    <tr style=\"text-align: right;\">\n",
       "      <th></th>\n",
       "      <th>composition</th>\n",
       "      <th>L_TC</th>\n",
       "      <th>composition_obj</th>\n",
       "    </tr>\n",
       "  </thead>\n",
       "  <tbody>\n",
       "    <tr>\n",
       "      <th>0</th>\n",
       "      <td>MgAgSb</td>\n",
       "      <td>0.192138</td>\n",
       "      <td>(Mg, Ag, Sb)</td>\n",
       "    </tr>\n",
       "    <tr>\n",
       "      <th>1</th>\n",
       "      <td>Ag0.355875Ge0.025Sb0.54405Te1</td>\n",
       "      <td>0.262783</td>\n",
       "      <td>(Ag, Sb, Te, Ge)</td>\n",
       "    </tr>\n",
       "    <tr>\n",
       "      <th>2</th>\n",
       "      <td>Ca0.84Ce0.16Ag0.9Sb1</td>\n",
       "      <td>0.293749</td>\n",
       "      <td>(Ca, Ce, Ag, Sb)</td>\n",
       "    </tr>\n",
       "    <tr>\n",
       "      <th>3</th>\n",
       "      <td>Tl1Cu0.1Ag0.9Te1</td>\n",
       "      <td>0.353152</td>\n",
       "      <td>(Ag, Cu, Tl, Te)</td>\n",
       "    </tr>\n",
       "    <tr>\n",
       "      <th>4</th>\n",
       "      <td>Tl1Cu0.3Ag0.7Te1</td>\n",
       "      <td>0.362911</td>\n",
       "      <td>(Ag, Cu, Tl, Te)</td>\n",
       "    </tr>\n",
       "  </tbody>\n",
       "</table>\n",
       "</div>"
      ],
      "text/plain": [
       "                     composition      L_TC   composition_obj\n",
       "0                         MgAgSb  0.192138      (Mg, Ag, Sb)\n",
       "1  Ag0.355875Ge0.025Sb0.54405Te1  0.262783  (Ag, Sb, Te, Ge)\n",
       "2           Ca0.84Ce0.16Ag0.9Sb1  0.293749  (Ca, Ce, Ag, Sb)\n",
       "3               Tl1Cu0.1Ag0.9Te1  0.353152  (Ag, Cu, Tl, Te)\n",
       "4               Tl1Cu0.3Ag0.7Te1  0.362911  (Ag, Cu, Tl, Te)"
      ]
     },
     "execution_count": 10,
     "metadata": {},
     "output_type": "execute_result"
    }
   ],
   "source": [
    "\n",
    "%%time\n",
    "\n",
    "original_count = len(data)\n",
    "data['composition'] = data['composition_obj'].apply(lambda x: x.reduced_formula)\n",
    "data.sort_values('L_TC', ascending=True, inplace=True)\n",
    "#data.sort_values('log_sig_E0', ascending=True, inplace=True)\n",
    "data.drop_duplicates ('composition', keep='last', inplace=True)\n",
    "print('Removed %d/%d entries'%(original_count - len(data), original_count))\n",
    "data.head()\n",
    "#data.to_csv ( 'processed.csv')"
   ]
  },
  {
   "cell_type": "code",
   "execution_count": 11,
   "metadata": {},
   "outputs": [
    {
     "name": "stdout",
     "output_type": "stream",
     "text": [
      "Removed 0/464 entries\n"
     ]
    }
   ],
   "source": [
    "original_count = len(data)\n",
    "#print(data)\n",
    "#data = data[np.logical_and(data['log_sig_E0'] >= 3.5, data['log_sig_E0'] <= 6.3)]\n",
    "print('Removed %d/%d entries'%(original_count - len(data), original_count))"
   ]
  },
  {
   "cell_type": "markdown",
   "metadata": {},
   "source": [
    "# Build an ML model\n",
    "\n",
    "Part 1: Compute Representation\n",
    "\n",
    "The first step in building a ML model is to convert the raw materials data (here: the composition) into the required input for an ML model: a finite list of quantitative attributes. In this example, we use the \"general-purpose\" attributes of Ward et al 2016."
   ]
  },
  {
   "cell_type": "code",
   "execution_count": 12,
   "metadata": {},
   "outputs": [],
   "source": [
    "f =  MultipleFeaturizer([cf.Stoichiometry(), cf.ElementProperty.from_preset(\"magpie\"),\n",
    "                                          cf.ValenceOrbital(props=['avg']), cf.IonProperty(fast=True)])"
   ]
  },
  {
   "cell_type": "markdown",
   "metadata": {},
   "source": [
    "### Get the feature names"
   ]
  },
  {
   "cell_type": "code",
   "execution_count": 13,
   "metadata": {},
   "outputs": [],
   "source": [
    "\n",
    "feature_labels = f.feature_labels()\n",
    "#print(feature_labels)\n"
   ]
  },
  {
   "cell_type": "markdown",
   "metadata": {},
   "source": [
    "### Compute the features"
   ]
  },
  {
   "cell_type": "code",
   "execution_count": 14,
   "metadata": {},
   "outputs": [
    {
     "data": {
      "application/vnd.jupyter.widget-view+json": {
       "model_id": "e31b8ade360e4914aa7cc137f59f7bd7",
       "version_major": 2,
       "version_minor": 0
      },
      "text/plain": [
       "HBox(children=(FloatProgress(value=0.0, description='MultipleFeaturizer', max=464.0, style=ProgressStyle(descr…"
      ]
     },
     "metadata": {},
     "output_type": "display_data"
    },
    {
     "name": "stdout",
     "output_type": "stream",
     "text": [
      "\n",
      "CPU times: user 237 ms, sys: 47.7 ms, total: 285 ms\n",
      "Wall time: 1.81 s\n"
     ]
    }
   ],
   "source": [
    "%%time\n",
    "data = f.featurize_dataframe(data, col_id=['composition_obj'], ignore_errors=True);"
   ]
  },
  {
   "cell_type": "markdown",
   "metadata": {},
   "source": [
    "### Remove entries with NaN or infinite features"
   ]
  },
  {
   "cell_type": "code",
   "execution_count": 15,
   "metadata": {},
   "outputs": [
    {
     "name": "stdout",
     "output_type": "stream",
     "text": [
      "Removed 0/464 entries\n"
     ]
    }
   ],
   "source": [
    "original_count = len(data)\n",
    "\n",
    "data = data[~ data[feature_labels].isnull().any(axis=1)]\n",
    "print('Removed %d/%d entries'%(original_count - len(data), original_count))"
   ]
  },
  {
   "cell_type": "code",
   "execution_count": 16,
   "metadata": {},
   "outputs": [
    {
     "data": {
      "application/vnd.jupyter.widget-view+json": {
       "model_id": "8da8058a0bf2413cbb8be0973489e333",
       "version_major": 2,
       "version_minor": 0
      },
      "text/plain": [
       "HBox(children=(FloatProgress(value=0.0, description='MultipleFeaturizer', max=464.0, style=ProgressStyle(descr…"
      ]
     },
     "metadata": {},
     "output_type": "display_data"
    },
    {
     "name": "stdout",
     "output_type": "stream",
     "text": [
      "\n"
     ]
    }
   ],
   "source": [
    "X = np.array(f.featurize_many(data['composition_obj']))\n"
   ]
  },
  {
   "cell_type": "code",
   "execution_count": 17,
   "metadata": {},
   "outputs": [
    {
     "data": {
      "text/html": [
       "<div>\n",
       "<style scoped>\n",
       "    .dataframe tbody tr th:only-of-type {\n",
       "        vertical-align: middle;\n",
       "    }\n",
       "\n",
       "    .dataframe tbody tr th {\n",
       "        vertical-align: top;\n",
       "    }\n",
       "\n",
       "    .dataframe thead th {\n",
       "        text-align: right;\n",
       "    }\n",
       "</style>\n",
       "<table border=\"1\" class=\"dataframe\">\n",
       "  <thead>\n",
       "    <tr style=\"text-align: right;\">\n",
       "      <th></th>\n",
       "      <th>0</th>\n",
       "    </tr>\n",
       "  </thead>\n",
       "  <tbody>\n",
       "    <tr>\n",
       "      <th>0</th>\n",
       "      <td>0.192138</td>\n",
       "    </tr>\n",
       "    <tr>\n",
       "      <th>1</th>\n",
       "      <td>0.262783</td>\n",
       "    </tr>\n",
       "    <tr>\n",
       "      <th>2</th>\n",
       "      <td>0.293749</td>\n",
       "    </tr>\n",
       "    <tr>\n",
       "      <th>3</th>\n",
       "      <td>0.353152</td>\n",
       "    </tr>\n",
       "    <tr>\n",
       "      <th>4</th>\n",
       "      <td>0.362911</td>\n",
       "    </tr>\n",
       "  </tbody>\n",
       "</table>\n",
       "</div>"
      ],
      "text/plain": [
       "          0\n",
       "0  0.192138\n",
       "1  0.262783\n",
       "2  0.293749\n",
       "3  0.353152\n",
       "4  0.362911"
      ]
     },
     "execution_count": 17,
     "metadata": {},
     "output_type": "execute_result"
    }
   ],
   "source": [
    "#X = np(data[feature_labels])\n",
    "y = np.array(data['L_TC'])\n",
    "#y = np.array(data['log_sig_E0'])\n",
    "#X = np.array(data[feature_labels])\n",
    "y1 = pd.DataFrame(y)\n",
    "y1.head()"
   ]
  },
  {
   "cell_type": "markdown",
   "metadata": {},
   "source": [
    "# Sklearn model\n",
    "\n",
    "Tuning Model Hyper-parameters\n",
    "\n",
    "\"Random forest\" algorithm works by training many different decision tree models, where each is trained on a different subset of the dataset . Here, we tune one of the major parameters of the algorithm: the number features considered at each split in each decision tree\n"
   ]
  },
  {
   "cell_type": "code",
   "execution_count": 18,
   "metadata": {},
   "outputs": [],
   "source": [
    "SK_model = GridSearchCV(SKRFRegressor(n_estimators=20, n_jobs=-1),\n",
    "                     param_grid=dict(max_features=range(8,15)),\n",
    "                     scoring='neg_mean_squared_error',cv=ShuffleSplit(n_splits=1, test_size=0.2))"
   ]
  },
  {
   "cell_type": "code",
   "execution_count": 19,
   "metadata": {},
   "outputs": [
    {
     "name": "stdout",
     "output_type": "stream",
     "text": [
      "CPU times: user 465 ms, sys: 91 ms, total: 556 ms\n",
      "Wall time: 2.12 s\n"
     ]
    },
    {
     "data": {
      "text/plain": [
       "GridSearchCV(cv=ShuffleSplit(n_splits=1, random_state=None, test_size=0.2, train_size=None),\n",
       "             error_score=nan,\n",
       "             estimator=RandomForestRegressor(bootstrap=True, ccp_alpha=0.0,\n",
       "                                             criterion='mse', max_depth=None,\n",
       "                                             max_features='auto',\n",
       "                                             max_leaf_nodes=None,\n",
       "                                             max_samples=None,\n",
       "                                             min_impurity_decrease=0.0,\n",
       "                                             min_impurity_split=None,\n",
       "                                             min_samples_leaf=1,\n",
       "                                             min_samples_split=2,\n",
       "                                             min_weight_fraction_leaf=0.0,\n",
       "                                             n_estimators=20, n_jobs=-1,\n",
       "                                             oob_score=False, random_state=None,\n",
       "                                             verbose=0, warm_start=False),\n",
       "             iid='deprecated', n_jobs=None,\n",
       "             param_grid={'max_features': range(8, 15)}, pre_dispatch='2*n_jobs',\n",
       "             refit=True, return_train_score=False,\n",
       "             scoring='neg_mean_squared_error', verbose=0)"
      ]
     },
     "execution_count": 19,
     "metadata": {},
     "output_type": "execute_result"
    }
   ],
   "source": [
    "%%time \n",
    "SK_model.fit(X, y)"
   ]
  },
  {
   "cell_type": "code",
   "execution_count": 20,
   "metadata": {},
   "outputs": [
    {
     "data": {
      "text/plain": [
       "-4.207379175182285"
      ]
     },
     "execution_count": 20,
     "metadata": {},
     "output_type": "execute_result"
    }
   ],
   "source": [
    "SK_model.best_score_"
   ]
  },
  {
   "cell_type": "code",
   "execution_count": 21,
   "metadata": {},
   "outputs": [
    {
     "data": {
      "text/plain": [
       "Text(0, 0.5, 'Sigma_E0')"
      ]
     },
     "execution_count": 21,
     "metadata": {},
     "output_type": "execute_result"
    },
    {
     "data": {
      "image/png": "[encoded data removed]",
      "text/plain": [
       "<Figure size 432x288 with 1 Axes>"
      ]
     },
     "metadata": {
      "needs_background": "light"
     },
     "output_type": "display_data"
    }
   ],
   "source": [
    "fig, ax = plt.subplots()\n",
    "\n",
    "# Plot the score as a function of alpha\n",
    "ax.scatter(SK_model.cv_results_['param_max_features'].data,\n",
    "          np.sqrt(-1 * SK_model.cv_results_['mean_test_score']))\n",
    "ax.scatter([SK_model.best_params_['max_features']], np.sqrt([-1*SK_model.best_score_]), marker='o', color='r', s=40)\n",
    "ax.set_xlabel('Max. Features')\n",
    "ax.set_ylabel('Sigma_E0')"
   ]
  },
  {
   "cell_type": "code",
   "execution_count": 22,
   "metadata": {},
   "outputs": [],
   "source": [
    "\n",
    "SK_model = SK_model.best_estimator_"
   ]
  },
  {
   "cell_type": "code",
   "execution_count": 23,
   "metadata": {},
   "outputs": [
    {
     "name": "stdout",
     "output_type": "stream",
     "text": [
      "CPU times: user 7.92 ms, sys: 791 µs, total: 8.71 ms\n",
      "Wall time: 105 ms\n"
     ]
    }
   ],
   "source": [
    "%%time\n",
    "sk_pred = SK_model.predict(X)"
   ]
  },
  {
   "cell_type": "markdown",
   "metadata": {},
   "source": [
    "## Cross-validation Test\n",
    "\n",
    "Quantify the performance of this model using 10-fold cross-validation\n"
   ]
  },
  {
   "cell_type": "code",
   "execution_count": 24,
   "metadata": {},
   "outputs": [],
   "source": [
    "cv_prediction = cross_val_predict(SK_model,X,y, cv=KFold(10, shuffle=True))\n",
    "\n",
    "\n",
    "#print(cv_prediction)\n",
    "#print(len(cv_prediction))\n",
    "#cv_pred = pd.DataFrame(cv_prediction)\n",
    "cv_pred = pd.DataFrame(cv_prediction)"
   ]
  },
  {
   "cell_type": "markdown",
   "metadata": {},
   "source": [
    "## Creating SKlearn csv"
   ]
  },
  {
   "cell_type": "code",
   "execution_count": 25,
   "metadata": {},
   "outputs": [
    {
     "data": {
      "text/html": [
       "<div>\n",
       "<style scoped>\n",
       "    .dataframe tbody tr th:only-of-type {\n",
       "        vertical-align: middle;\n",
       "    }\n",
       "\n",
       "    .dataframe tbody tr th {\n",
       "        vertical-align: top;\n",
       "    }\n",
       "\n",
       "    .dataframe thead th {\n",
       "        text-align: right;\n",
       "    }\n",
       "</style>\n",
       "<table border=\"1\" class=\"dataframe\">\n",
       "  <thead>\n",
       "    <tr style=\"text-align: right;\">\n",
       "      <th></th>\n",
       "      <th>index</th>\n",
       "      <th>composition</th>\n",
       "      <th>composition_obj</th>\n",
       "      <th>lattice TC</th>\n",
       "      <th>Predicted TC</th>\n",
       "    </tr>\n",
       "  </thead>\n",
       "  <tbody>\n",
       "    <tr>\n",
       "      <th>0</th>\n",
       "      <td>0</td>\n",
       "      <td>MgAgSb</td>\n",
       "      <td>(Mg, Ag, Sb)</td>\n",
       "      <td>0.192138</td>\n",
       "      <td>1.322991</td>\n",
       "    </tr>\n",
       "    <tr>\n",
       "      <th>1</th>\n",
       "      <td>1</td>\n",
       "      <td>Ag0.355875Ge0.025Sb0.54405Te1</td>\n",
       "      <td>(Ag, Sb, Te, Ge)</td>\n",
       "      <td>0.262783</td>\n",
       "      <td>0.696946</td>\n",
       "    </tr>\n",
       "    <tr>\n",
       "      <th>2</th>\n",
       "      <td>2</td>\n",
       "      <td>Ca0.84Ce0.16Ag0.9Sb1</td>\n",
       "      <td>(Ca, Ce, Ag, Sb)</td>\n",
       "      <td>0.293749</td>\n",
       "      <td>0.891525</td>\n",
       "    </tr>\n",
       "    <tr>\n",
       "      <th>3</th>\n",
       "      <td>3</td>\n",
       "      <td>Tl1Cu0.1Ag0.9Te1</td>\n",
       "      <td>(Ag, Cu, Tl, Te)</td>\n",
       "      <td>0.353152</td>\n",
       "      <td>0.430261</td>\n",
       "    </tr>\n",
       "    <tr>\n",
       "      <th>4</th>\n",
       "      <td>4</td>\n",
       "      <td>Tl1Cu0.3Ag0.7Te1</td>\n",
       "      <td>(Ag, Cu, Tl, Te)</td>\n",
       "      <td>0.362911</td>\n",
       "      <td>0.385260</td>\n",
       "    </tr>\n",
       "  </tbody>\n",
       "</table>\n",
       "</div>"
      ],
      "text/plain": [
       "   index                    composition   composition_obj  lattice TC  \\\n",
       "0      0                         MgAgSb      (Mg, Ag, Sb)    0.192138   \n",
       "1      1  Ag0.355875Ge0.025Sb0.54405Te1  (Ag, Sb, Te, Ge)    0.262783   \n",
       "2      2           Ca0.84Ce0.16Ag0.9Sb1  (Ca, Ce, Ag, Sb)    0.293749   \n",
       "3      3               Tl1Cu0.1Ag0.9Te1  (Ag, Cu, Tl, Te)    0.353152   \n",
       "4      4               Tl1Cu0.3Ag0.7Te1  (Ag, Cu, Tl, Te)    0.362911   \n",
       "\n",
       "   Predicted TC  \n",
       "0      1.322991  \n",
       "1      0.696946  \n",
       "2      0.891525  \n",
       "3      0.430261  \n",
       "4      0.385260  "
      ]
     },
     "execution_count": 25,
     "metadata": {},
     "output_type": "execute_result"
    }
   ],
   "source": [
    "#create_xcl_sklearn = pd.DataFrame\n",
    "create_xcl_sklearn = pd.DataFrame(data, columns = ['composition', 'composition_obj', 'L_TC'])\n",
    "create_xcl_sklearn = create_xcl_sklearn .reset_index(drop= True)\n",
    "create_xcl_sklearn = pd.concat([create_xcl_sklearn , cv_pred], axis = 1, ignore_index=True)\n",
    "create_xcl_sklearn.head()\n",
    "\n",
    "create_xcl_sklearn = pd.DataFrame(create_xcl_sklearn).reset_index()\n",
    "create_xcl_sklearn.columns = ['index','composition','composition_obj',  'lattice TC', 'Predicted TC']\n",
    "#print((create_xcl_predZT))\n",
    "create_xcl_sklearn.head()\n",
    "#create_xcl_sklearn.to_csv('Sk_learn_predicted.csv')"
   ]
  },
  {
   "cell_type": "markdown",
   "metadata": {},
   "source": [
    "### Compute aggregate statistics"
   ]
  },
  {
   "cell_type": "code",
   "execution_count": 26,
   "metadata": {},
   "outputs": [
    {
     "name": "stdout",
     "output_type": "stream",
     "text": [
      "r2_score 0.7437919857107518\n",
      "mean_absolute_error 1.0663202194998709\n",
      "mean_squared_error 3.1712860699662824\n"
     ]
    }
   ],
   "source": [
    "for scorer in ['r2_score', 'mean_absolute_error', 'mean_squared_error']:\n",
    "    score = getattr(metrics,scorer)(y, cv_prediction)\n",
    "    print(scorer, score)"
   ]
  },
  {
   "cell_type": "markdown",
   "metadata": {},
   "source": [
    "# lolopy model"
   ]
  },
  {
   "cell_type": "code",
   "execution_count": 27,
   "metadata": {},
   "outputs": [],
   "source": [
    "model = RandomForestRegressor(num_trees=20)\n",
    "\n",
    "#num_trees=-1, use_jackknife=True, bias_learner=None,\n",
    " #                leaf_learner=None, subset_strategy=\"auto\", min_leaf_instances=1,\n",
    "  #               max_depth=2**30, uncertainty_calibration=False, randomize_pivot_location=False,\n",
    "   #              randomly_rotate_features=False\n",
    "\n",
    "#model = GridSearchCV(RandomForestRegressor(num_trees=20)),\n",
    " #                    param_grid=dict(max_features=range(8,15)),\n",
    "  #                   scoring='neg_mean_squared_error',cv=ShuffleSplit(n_splits=1, test_size=0.1))\n",
    "\n",
    "#model = GridSearchCV(RandomForestRegressor(num_trees=20),\n",
    "#                     param_grid=dict(max_features=range(8,15)),\n",
    " #                    scoring='neg_mean_squared_error',cv=ShuffleSplit(n_splits=1, test_size=0.1))\n",
    "#SKRFRegressor(n_estimators=len(X))\n",
    "\n"
   ]
  },
  {
   "cell_type": "code",
   "execution_count": 28,
   "metadata": {},
   "outputs": [
    {
     "data": {
      "text/plain": [
       "RandomForestRegressor(bias_learner=None, leaf_learner=None,\n",
       "                      max_depth=1073741824, min_leaf_instances=1, num_trees=20,\n",
       "                      randomize_pivot_location=False,\n",
       "                      randomly_rotate_features=False, subset_strategy='auto',\n",
       "                      uncertainty_calibration=False, use_jackknife=True)"
      ]
     },
     "execution_count": 28,
     "metadata": {},
     "output_type": "execute_result"
    }
   ],
   "source": [
    "X_train, X_test, y_train, y_test = train_test_split(X, y, test_size=0.20)\n",
    "\n",
    "#SK_model\n",
    "#sk_rf = RandomForestRegressor()\n",
    "#lolo_rf = Lolo_RF()\n",
    "model.fit(X_train, y_train)"
   ]
  },
  {
   "cell_type": "markdown",
   "metadata": {},
   "source": [
    "### Get the Residuals and RF Uncertainty\n",
    "copied from exacmple \"As described in the Ling paper, ideally-calibrated uncertainty estimaes should have a particular relationship with the errors of a machine learning model. Specifically, the distribution of r(x)/σ(x) where r(x) is the residual of the prediction and σ(x) is the uncertainty of the prediction for x should have a Gaussian distribution with zero mean and unit standard deviation.\"\n",
    "\n",
    "Get the errors from 10-fold cross-validation"
   ]
  },
  {
   "cell_type": "code",
   "execution_count": 29,
   "metadata": {},
   "outputs": [],
   "source": [
    "y_resid = []\n",
    "y_uncer = []\n",
    "for train_id, test_id in KFold(10, shuffle=True).split(X):\n",
    "    model.fit(X[train_id], y[train_id])\n",
    "    yf_pred, yf_std = model.predict(X[test_id], return_std=True)\n",
    "    y_resid.extend(yf_pred - y[test_id])\n",
    "    y_uncer.extend(yf_std)"
   ]
  },
  {
   "cell_type": "code",
   "execution_count": 30,
   "metadata": {},
   "outputs": [],
   "source": [
    "y_residual = pd.DataFrame(y_resid)"
   ]
  },
  {
   "cell_type": "code",
   "execution_count": 31,
   "metadata": {},
   "outputs": [
    {
     "name": "stdout",
     "output_type": "stream",
     "text": [
      "Mean Absolute Error: 0.4405337206053762\n",
      "Mean Squared Error: 0.49430875321085876\n",
      "Root Mean Squared Error: 0.7030709446498687\n"
     ]
    }
   ],
   "source": [
    "#pred vs. actual on test set\n",
    "from sklearn import metrics\n",
    "\n",
    "y_pred = model.predict(X_test)\n",
    "errors = abs(y_pred - y_test)\n",
    "\n",
    "print('Mean Absolute Error:', metrics.mean_absolute_error(y_test, y_pred))\n",
    "print('Mean Squared Error:', metrics.mean_squared_error(y_test, y_pred))\n",
    "print('Root Mean Squared Error:', np.sqrt(metrics.mean_squared_error(y_test, y_pred)))"
   ]
  },
  {
   "cell_type": "markdown",
   "metadata": {},
   "source": [
    "## Cross-validation Test lolopy\n",
    "\n",
    "Quantify the performance of this model using 10-fold cross-validation\n"
   ]
  },
  {
   "cell_type": "code",
   "execution_count": 32,
   "metadata": {},
   "outputs": [],
   "source": [
    "cv_prediction1 = cross_val_predict(model,X,y, cv=KFold(10, shuffle=True))"
   ]
  },
  {
   "cell_type": "code",
   "execution_count": 33,
   "metadata": {},
   "outputs": [
    {
     "name": "stdout",
     "output_type": "stream",
     "text": [
      "r2_score 0.7444991456389025\n",
      "mean_absolute_error 1.0438421320474138\n",
      "mean_squared_error 3.162533000958648\n"
     ]
    }
   ],
   "source": [
    "for scorer1 in ['r2_score', 'mean_absolute_error', 'mean_squared_error']:\n",
    "    score1 = getattr(metrics,scorer1)(y, cv_prediction1)\n",
    "    print(scorer1, score1)"
   ]
  },
  {
   "cell_type": "code",
   "execution_count": 34,
   "metadata": {},
   "outputs": [
    {
     "data": {
      "text/plain": [
       "464"
      ]
     },
     "execution_count": 34,
     "metadata": {},
     "output_type": "execute_result"
    }
   ],
   "source": [
    "lolo_pred, lolo_std = model.predict(X, return_std=True)\n",
    "#print(lolo_pred)\n",
    "#lolo_pred, lolo_std = model.predict(X, return_std=True)\n",
    "len(lolo_pred)"
   ]
  },
  {
   "cell_type": "code",
   "execution_count": 35,
   "metadata": {},
   "outputs": [],
   "source": [
    "lolo_predict = pd.DataFrame(lolo_pred)\n",
    "lolo_standard = pd.DataFrame(lolo_std)\n",
    "#lolo_standard.head()\n"
   ]
  },
  {
   "cell_type": "code",
   "execution_count": 36,
   "metadata": {},
   "outputs": [
    {
     "name": "stdout",
     "output_type": "stream",
     "text": [
      "0.192137609\n"
     ]
    }
   ],
   "source": [
    "mli_score = (np.divide(((lolo_pred) - np.min(y_train)), (lolo_std)))\n",
    "cmin = np.min(y_train)\n",
    "print(cmin)"
   ]
  },
  {
   "cell_type": "markdown",
   "metadata": {},
   "source": [
    "## Plot the individual predictions"
   ]
  },
  {
   "cell_type": "code",
   "execution_count": 53,
   "metadata": {},
   "outputs": [
    {
     "data": {
      "image/png": "[encoded data removed]",
      "text/plain": [
       "<Figure size 864x360 with 2 Axes>"
      ]
     },
     "metadata": {
      "needs_background": "light"
     },
     "output_type": "display_data"
    }
   ],
   "source": [
    "fig, axs = plt.subplots(1, 2, sharey=True)\n",
    "#fig, ax = plt.subplots()\n",
    "\n",
    "axs[0].errorbar(y, lolo_pred, lolo_std, fmt='o', ms=5, color = 'darkviolet', ecolor='gray')\n",
    "axs[1].scatter(y, sk_pred, s=25, color = 'firebrick')\n",
    "#axs.set_title('Starry Lattice Thermal Conductivity (All Data)')\n",
    "\n",
    "#axs[0].set_title('with lolopy Sigma_E0', fontsize = 15)\n",
    "#axs[1].set_title('SK_learn Sigma_E0', fontsize = 15)\n",
    "axs[0].set_title('with lolopy Lattice Thermal Conductivity', fontsize = 15)\n",
    "axs[1].set_title('SK_learn Lattice Thermal Conductivity', fontsize = 15)\n",
    "\n",
    "lim = [0, 25]\n",
    "#lim = [0, 25]\n",
    "\n",
    "for ax, n in zip(axs, ['Lolopy', 'Sklearn']):\n",
    "    ax.set_xlim(0, 25)\n",
    "    ax.set_ylim(0, 25)\n",
    "    ax.set_xlabel('Experimental Lattice Thermal Conductivity',fontsize=15)\n",
    "    #ax.set_xlabel('Experimental Lattice Thermal Conductivity',fontsize=15)\n",
    "    ax.plot(lim, lim, 'k--')\n",
    "    ax.text(20, 5, n, fontsize=16)\n",
    "    ax.set_ylabel('ML Predicted Lattice Thermal Conductivity', fontsize=15)\n",
    "    #ax.set_ylabel('ML Lattice Thermal Conductivity', fontsize=15)\n",
    "    \n",
    "#lolopy results\n",
    "mae = metrics.mean_absolute_error(y, cv_prediction1)\n",
    "          \n",
    "r2 = metrics.r2_score(y, cv_prediction1)\n",
    "#ax.text(0.3, 0.1, 'MAE: {:.2f} \\n$R^2$:  {:.2f}'.format(mae, r2),\n",
    " #       transform=ax.transAxes,\n",
    "  #   bbox={'facecolor': 'w', 'edgecolor': 'k'})\n",
    "\n",
    "#SK_learn\n",
    "mae = metrics.mean_absolute_error(y, cv_prediction)\n",
    "          \n",
    "r2 = metrics.r2_score(y, cv_prediction)\n",
    "ax.text(0.5, 0.1, 'MAE: {:.2f} \\n$R^2$:  {:.2f}'.format(mae, r2),\n",
    "        transform=ax.transAxes,\n",
    "       bbox={'facecolor': 'w', 'edgecolor': 'k'})\n",
    "\n",
    "fig.set_size_inches(12, 5)\n",
    "#fig.set_size_inches(8, 4)\n",
    "fig.tight_layout()\n",
    "fig.savefig('/home/unmagna/Documents/slac/matminer/Nov2022/TC/figure/thermal_conductivity_comparison_model_Nov22.png', dpi=500)"
   ]
  },
  {
   "cell_type": "markdown",
   "metadata": {},
   "source": [
    "# Plot the normalized residuals (r(x)/σ(x)) against the normal distribution"
   ]
  },
  {
   "cell_type": "code",
   "execution_count": 54,
   "metadata": {},
   "outputs": [
    {
     "data": {
      "image/png": "[encoded data removed]",
      "text/plain": [
       "<Figure size 864x360 with 2 Axes>"
      ]
     },
     "metadata": {
      "needs_background": "light"
     },
     "output_type": "display_data"
    }
   ],
   "source": [
    "fig, axs = plt.subplots(1, 2, sharey=True)\n",
    "#f = plt.figure(figsize=(10,3))\n",
    "#fig.set_size_inches(5, 5)\n",
    "x = np.linspace(-8, 8, 80)\n",
    "\n",
    "# Plot the RF uncertainty\n",
    "resid = np.divide(y_resid, y_uncer)\n",
    "axs[0].hist(resid, x, density=True, color = 'darkviolet')\n",
    "axs[0].set_title('With Lolo Uncertainty Estimates', fontsize = 15)\n",
    "\n",
    "# Plot assuming constant errors\n",
    "resid = np.divide(y_resid, np.sqrt(np.power(y_resid, 2).mean()))\n",
    "axs[1].hist(resid, x, density=True, color= 'firebrick')\n",
    "axs[1].set_title('Assuming Constant Error', fontsize =15)\n",
    "\n",
    "for ax in axs:\n",
    "    ax.plot(x, norm.pdf(x), 'k--', lw=1.8)\n",
    "    ax.set_xlabel('Normalized Residual', fontsize=15)\n",
    "    ax.set_ylabel('Probability Density', fontsize=15)\n",
    "\n",
    "fig.set_size_inches(12, 5)\n",
    "fig.tight_layout()\n",
    "#print(resid)\n",
    "fig.savefig('/home/unmagna/Documents/slac/matminer/Nov2022/TC/figure/Probability distribution thermal_conductivity_comparison_nov22.png', dpi=500)"
   ]
  },
  {
   "cell_type": "code",
   "execution_count": 51,
   "metadata": {},
   "outputs": [
    {
     "data": {
      "text/plain": [
       "RandomForestRegressor(bias_learner=None, leaf_learner=None,\n",
       "                      max_depth=1073741824, min_leaf_instances=1, num_trees=20,\n",
       "                      randomize_pivot_location=False,\n",
       "                      randomly_rotate_features=False, subset_strategy='auto',\n",
       "                      uncertainty_calibration=False, use_jackknife=True)"
      ]
     },
     "execution_count": 51,
     "metadata": {},
     "output_type": "execute_result"
    }
   ],
   "source": [
    "\n",
    "model"
   ]
  },
  {
   "cell_type": "markdown",
   "metadata": {},
   "source": [
    "### Plot the model"
   ]
  },
  {
   "cell_type": "markdown",
   "metadata": {},
   "source": [
    "## Save the Sklearn Model"
   ]
  },
  {
   "cell_type": "code",
   "execution_count": 55,
   "metadata": {},
   "outputs": [],
   "source": [
    "#with gzip.open('lolopy_model_SigmaE0.pkl.gz', 'wb') as fp:\n",
    "with gzip.open('/home/unmagna/Documents/slac/matminer/Nov2022/TC/results/lolopy_model_TC.pkl.gz', 'wb') as fp:\n",
    "    pkl.dump(model, fp)\n",
    "\n",
    "#with gzip.open('SK_model_SigmaE0.pkl.gz', 'wb') as fp:\n",
    "with gzip.open('/home/unmagna/Documents/slac/matminer/Nov2022/TC/results/SK_model_TC.pkl.gz', 'wb') as fp:    \n",
    "    pkl.dump(SK_model, fp)"
   ]
  },
  {
   "cell_type": "code",
   "execution_count": 56,
   "metadata": {},
   "outputs": [],
   "source": [
    "with gzip.open('/home/unmagna/Documents/slac/matminer/Nov2022/TC/results/featurizer_TC.pkl.gz', 'wb') as fp:\n",
    "#with gzip.open('featurizer_SigmaE0.pkl.gz', 'wb') as fp:\n",
    "    pkl.dump(f, fp)"
   ]
  },
  {
   "cell_type": "code",
   "execution_count": 57,
   "metadata": {},
   "outputs": [],
   "source": [
    "with open(os.path.join('/home/unmagna/Documents/slac/matminer/Nov2022/TC/results/data_TC.pkl.gz'), 'wb') as fp:\n",
    "#with open(os.path.join('data_SigmaE0.pkl.gz'), 'wb') as fp:    \n",
    "    pkl.dump(data, fp)"
   ]
  },
  {
   "cell_type": "code",
   "execution_count": 59,
   "metadata": {},
   "outputs": [],
   "source": [
    "with open(os.path.join('/home/unmagna/Documents/slac/matminer/Nov2022/TC/results/SK_TC_pred.pkl.gz'), 'wb') as fp:\n",
    "#with open(os.path.join('SK_sigma_E0_pred.pkl.gz'), 'wb') as fp:    \n",
    "    pkl.dump(cv_prediction, fp)\n",
    "\n",
    "with open(os.path.join('/home/unmagna/Documents/slac/matminer/Nov2022/TC/results/lolopy_TC_pred.pkl.gz'), 'wb') as fp:    \n",
    "#with open(os.path.join('lolopy_sigma_E0_pred.pkl.gz'), 'wb') as fp:\n",
    "    pkl.dump(cv_prediction1, fp)"
   ]
  },
  {
   "cell_type": "code",
   "execution_count": 61,
   "metadata": {},
   "outputs": [],
   "source": [
    "with open('/home/unmagna/Documents/slac/matminer/Nov2022/TC/results/SK_learn_TC_cv_prediction.json', 'w') as fp:\n",
    "#with open('SK_learn_SigmaE0_cv_prediction.json', 'w') as fp:\n",
    "    json.dump(list(cv_prediction), fp)\n",
    "    \n",
    "with open('/home/unmagna/Documents/slac/matminer/Nov2022/TC/results/lolopy_TC_cv_prediction.json', 'w') as fp:    \n",
    "#with open('lolopy_SigmaE0_cv_prediction.json', 'w') as fp:\n",
    "    json.dump(list(cv_prediction1), fp)"
   ]
  },
  {
   "cell_type": "code",
   "execution_count": 65,
   "metadata": {},
   "outputs": [
    {
     "name": "stdout",
     "output_type": "stream",
     "text": [
      "Collecting pipreqsnb\n",
      "  Downloading pipreqsnb-0.2.4.tar.gz (3.7 kB)\n",
      "Collecting pipreqs\n",
      "  Downloading pipreqs-0.4.11-py2.py3-none-any.whl (32 kB)\n",
      "Collecting docopt\n",
      "  Downloading docopt-0.6.2.tar.gz (25 kB)\n",
      "Collecting yarg\n",
      "  Downloading yarg-0.1.9-py2.py3-none-any.whl (19 kB)\n",
      "Requirement already satisfied: requests in /home/unmagna/anaconda3/lib/python3.7/site-packages (from yarg->pipreqs->pipreqsnb) (2.22.0)\n",
      "Requirement already satisfied: certifi>=2017.4.17 in /home/unmagna/anaconda3/lib/python3.7/site-packages (from requests->yarg->pipreqs->pipreqsnb) (2019.11.28)\n",
      "Requirement already satisfied: idna<2.9,>=2.5 in /home/unmagna/anaconda3/lib/python3.7/site-packages (from requests->yarg->pipreqs->pipreqsnb) (2.8)\n",
      "Requirement already satisfied: urllib3!=1.25.0,!=1.25.1,<1.26,>=1.21.1 in /home/unmagna/anaconda3/lib/python3.7/site-packages (from requests->yarg->pipreqs->pipreqsnb) (1.25.8)\n",
      "Requirement already satisfied: chardet<3.1.0,>=3.0.2 in /home/unmagna/anaconda3/lib/python3.7/site-packages (from requests->yarg->pipreqs->pipreqsnb) (3.0.4)\n",
      "Building wheels for collected packages: pipreqsnb, docopt\n",
      "  Building wheel for pipreqsnb (setup.py) ... \u001b[?25ldone\n",
      "\u001b[?25h  Created wheel for pipreqsnb: filename=pipreqsnb-0.2.4-py3-none-any.whl size=4137 sha256=c31ea4f43c0305ae77a5d7af0755104118bdbf9c5b2630543e7bb55921613a1c\n",
      "  Stored in directory: /home/unmagna/.cache/pip/wheels/23/7f/59/7a87faea552278c8ef0c171ea4d27494eb91ac9380567239b6\n",
      "  Building wheel for docopt (setup.py) ... \u001b[?25ldone\n",
      "\u001b[?25h  Created wheel for docopt: filename=docopt-0.6.2-py2.py3-none-any.whl size=13704 sha256=36aaf4f6755ff312fd151114fe5aa6afc4e0272c18584636aa8205142504a7e9\n",
      "  Stored in directory: /home/unmagna/.cache/pip/wheels/72/b0/3f/1d95f96ff986c7dfffe46ce2be4062f38ebd04b506c77c81b9\n",
      "Successfully built pipreqsnb docopt\n",
      "Installing collected packages: docopt, yarg, pipreqs, pipreqsnb\n",
      "Successfully installed docopt-0.6.2 pipreqs-0.4.11 pipreqsnb-0.2.4 yarg-0.1.9\n"
     ]
    }
   ],
   "source": [
    "!pip install pipreqsnb"
   ]
  },
  {
   "cell_type": "code",
   "execution_count": 67,
   "metadata": {},
   "outputs": [
    {
     "name": "stdout",
     "output_type": "stream",
     "text": [
      "pipreqs  .\n",
      "INFO: Successfully saved requirements file in ./requirements.txt\n"
     ]
    }
   ],
   "source": [
    "!pipreqsnb . "
   ]
  },
  {
   "cell_type": "markdown",
   "metadata": {},
   "source": [
    "# Create the ternary with MLI score"
   ]
  },
  {
   "cell_type": "code",
   "execution_count": 429,
   "metadata": {},
   "outputs": [],
   "source": [
    "from matplotlib.colors import ListedColormap\n",
    "from matplotlib import pyplot as plt\n",
    "from matplotlib import cm\n",
    "from pymatgen import Composition\n",
    "from sklearn.exceptions import NotFittedError\n",
    "import numpy as np\n",
    "import ternary\n",
    "import scipy\n",
    "\n",
    "def make_cmap(base='plasma_r'): # scale_factor=1, cutoff=0.9, adjust_factor=0.1):\n",
    "    \"\"\"Make a colormap that this scaled to emphasize the top of the range.\n",
    "    \n",
    "    Two kinds of emphasis:\n",
    "        1) Scaling the colormap to have a stronger gradient at the top\n",
    "        2) Making the colors below a treshold lighter\n",
    "        \n",
    "    Inputs:\n",
    "        base - str, base color map name\n",
    "        scale_factor - float, how much to exaggerate the range at the top (larger value -> larger scaling)\n",
    "        cutoff - float, treshold below which to lighten colors (0-1)\n",
    "        adjust_factor - float, how much to dampen colors (0-1)\n",
    "    Returns:\n",
    "        Colormap\n",
    "    \"\"\"\n",
    "    \n",
    "    # Get the base colormap\n",
    "    v = cm.get_cmap('plasma_r')\n",
    "    \n",
    "    # Scale it\n",
    "    #new_list = v(np.linspace(0,1,50) ** scale_factor)\n",
    "\n",
    "    # Apply cutoff\n",
    "   # new_list[:int(len(new_list)*cutoff),:3] += (1 - new_list[:int(len(new_list)*cutoff),:3]) * adjust_factor\n",
    "    #return ListedColormap(new_list, name='%s_scaled'%base)\n",
    "    return(v)\n",
    "\n",
    "#def plot_system(sig_max, sig_min, counter, df, ax, elems, model, featurizer, am_index, scale=3):\n",
    "def plot_system(df, ax, elems, model, featurizer, am_index, scale=10):\n",
    "    \"\"\"Given model output for a ternary, plot the probability of GFA\n",
    "    \n",
    "    Args:\n",
    "        ax: Axis on which to plot\n",
    "        elems: Elements that define the ternary\n",
    "        model: Scikit-Learn GFA model\n",
    "        featurizer: Tool used to generate features for the model\n",
    "        am_index\n",
    "    \"\"\"\n",
    "    #print(counter)\n",
    "    #cv_prediction_1=cv_prediction.reshape(1,-1)\n",
    "    # Make the plot \n",
    "    #fig, tax = ternary.figure(scale=scale, ax=ax)\n",
    "    \n",
    "    fig, tax = ternary.figure(scale=scale, ax=ax)\n",
    "\n",
    "    # Make the function\n",
    "    def get_coords(x):\n",
    "        #x2 is the composition of the solid solution\n",
    "        x2 = []\n",
    "        for x_sub in x:\n",
    "            x2.append(x_sub/3)\n",
    "        x2.append(1/3)\n",
    "        x2.append(1/3)\n",
    "        #xtype = type(x) \n",
    "        print(x2)\n",
    "        #print(xtype)    \n",
    "        comp = Composition(dict(zip(elems, x2)))\n",
    "        #print(comp)\n",
    "        try:\n",
    "            X = featurizer.featurize(comp)\n",
    "            #print(X)\n",
    "        except: \n",
    "            return 0\n",
    "        #except NotFittedError as e:\n",
    "         #   print(repr(e))\n",
    "        #predicted sigma_E0 value\n",
    "        #retObj = model.predict([X])[0]\n",
    "        #retObj = model.predict(X)[1][0]\n",
    "        #return model.predict([X])[1]\n",
    "        #For predicting new value\n",
    "        a = model.predict([X])[0]\n",
    "        #For uncertainty calculations (standard deviation)\n",
    "        b = model.predict([X], return_std = True)[1][0]\n",
    "        \n",
    "        #EI(x)=(μ(x)-f(x^+ )-ϵ)Φ(Z)+σ(x)φ(Z) \n",
    "        #μ(x)=a\n",
    "        #f(x^+ )= cmax\n",
    "        #σ(x) = b\n",
    "        z = np.divide((cmin - a), b)\n",
    "        z_cdf = scipy.stats.norm.cdf(z)\n",
    "        z_pdf = scipy.stats.norm.pdf(z)\n",
    "        \n",
    "        #retObj = np.divide((cmax-a), b)\n",
    "        #retObj = (cmin - a )*(z_cdf) + (b*z_pdf)\n",
    "        retObj = b\n",
    "        x2.append(retObj)\n",
    "        df.append(x2)\n",
    "        #print(type(retObj))\n",
    "        print(retObj)\n",
    "        \n",
    "        #counter = counter+1\n",
    "        return retObj\n",
    "        \n",
    "   \n",
    "    #   Make boundary\n",
    "    tax.boundary(linewidth=1)\n",
    "    #sc = tax.heatmapf(get_coords, cmap=make_cmap(), vmin=0.5, vmax=1, colorbar=True)#, cmap='viridis', vmin=0.5, vmax=1)\n",
    "    #sc = tax.heatmapf(get_coords, cmap=make_cmap(), vmin=cv_prediction.min(), vmax=cv_prediction.max(), colorbar=True)#, cmap='viridis', vmin=0.5, vmax=1)\n",
    "    coords = get_coords\n",
    "    #print(type(coords))\n",
    "    #sc = tax.heatmapf(coords, cmap=make_cmap(), vmin=4.65, vmax=4.91, colorbar=True)\n",
    "    #sc= tax.heatmapf(coords,style=\"triangle\", cmap=plt.cm.get_cmap('gist_heat'),cbarlabel='Predicted Thermal Conductivity(lolopy)', vmax = 2, vmin = 1.3)\n",
    "\n",
    "    sc= tax.heatmapf(coords,style=\"triangle\", cmap=plt.cm.get_cmap('viridis_r'),cbarlabel='Predicted Lattice thermal conductivity')\n",
    "    # Add colorbar\n",
    "    #cb = plt.colorbar(sc, ax=ax)7\n",
    "    #cb.ax.set_ylabel('P(GFA = True)')\n",
    "    \n",
    "    #for x in cb.ax.get_yticklabels():\n",
    "    #    x.set_size(10)\n",
    "    \n",
    "    # Make it prettier\n",
    "    plt.axis('off')\n",
    "    #ax.set_xlim([-5, 110])\n",
    "    #ax.set_ylim([-5, 110 * 3 ** 0.5 / 2])\n",
    "    ax.text(1.05 * scale, -0.05 * scale, elems[0], ha='right', fontsize=12) # 1st elem\n",
    "    ax.text(.50 * scale, .90 * scale, elems[1], ha='center', fontsize=12) # 2nd elem\n",
    "    ax.text(-.05 * scale, -.05 * scale, elems[2], ha='left', fontsize=12) # 3rd elem"
   ]
  },
  {
   "cell_type": "markdown",
   "metadata": {},
   "source": [
    "## Load the model"
   ]
  },
  {
   "cell_type": "code",
   "execution_count": 407,
   "metadata": {},
   "outputs": [],
   "source": [
    "#with gzip.open('SK_model_SigmaE0.pkl.gz', 'rb') as fp:\n",
    "#with gzip.open('lolopy_model_TC.pkl.gz', 'rb') as fp:\n",
    "#with gzip.open('lolopy_model_SigmaE0.pkl.gz', 'rb') as fp:\n",
    "with gzip.open('lolopy_model.pkl.gz', 'rb') as fp:\n",
    "    model = pkl.load(fp)\n",
    "    #print(model)"
   ]
  },
  {
   "cell_type": "code",
   "execution_count": 408,
   "metadata": {},
   "outputs": [],
   "source": [
    "#with gzip.open('featurizer_TC.pkl.gz', 'rb') as fp:\n",
    "#with gzip.open('featurizer_SigmaE0.pkl.gz', 'rb') as fp:\n",
    "with gzip.open('featurizer.pkl.gz', 'rb') as fp:\n",
    "    featurizer = pkl.load(fp)\n",
    "    #print(featurizer)"
   ]
  },
  {
   "cell_type": "code",
   "execution_count": 409,
   "metadata": {},
   "outputs": [],
   "source": [
    "#with open('SK_learn_SigmaE0_cv_prediction.json') as fp:\n",
    "#with open('lolopy_TC_cv_prediction.json') as fp:\n",
    "#with open('lolopy_SigmaE0_cv_prediction.json') as fp:\n",
    "with open('cv_prediction_lolopy.json') as fp:\n",
    "    am_index = json.load(fp)\n",
    "    #print(am_index)"
   ]
  },
  {
   "cell_type": "code",
   "execution_count": 430,
   "metadata": {},
   "outputs": [
    {
     "name": "stdout",
     "output_type": "stream",
     "text": [
      "[0.0, 0.0, 0.3333333333333333, 0.3333333333333333, 0.3333333333333333]\n",
      "4.092071237845187\n",
      "[0.0, 0.03333333333333333, 0.3, 0.3333333333333333, 0.3333333333333333]\n",
      "2.3379660463815437\n",
      "[0.0, 0.06666666666666667, 0.26666666666666666, 0.3333333333333333, 0.3333333333333333]\n",
      "1.7127467195049968\n",
      "[0.0, 0.09999999999999999, 0.2333333333333333, 0.3333333333333333, 0.3333333333333333]\n",
      "0.8218815483997682\n",
      "[0.0, 0.13333333333333333, 0.19999999999999998, 0.3333333333333333, 0.3333333333333333]\n",
      "0.6151437910768413\n",
      "[0.0, 0.16666666666666666, 0.16666666666666666, 0.3333333333333333, 0.3333333333333333]\n",
      "0.36669798639536766\n",
      "[0.0, 0.19999999999999998, 0.13333333333333333, 0.3333333333333333, 0.3333333333333333]\n",
      "0.28606989717704534\n",
      "[0.0, 0.2333333333333333, 0.09999999999999999, 0.3333333333333333, 0.3333333333333333]\n",
      "0.27587785228538997\n",
      "[0.0, 0.26666666666666666, 0.06666666666666667, 0.3333333333333333, 0.3333333333333333]\n",
      "0.27544497744087865\n",
      "[0.0, 0.3, 0.03333333333333333, 0.3333333333333333, 0.3333333333333333]\n",
      "1.7172803367890268\n",
      "[0.0, 0.3333333333333333, 0.0, 0.3333333333333333, 0.3333333333333333]\n",
      "1.9459228999267824\n",
      "[0.03333333333333333, 0.0, 0.3, 0.3333333333333333, 0.3333333333333333]\n",
      "3.3222892028504547\n",
      "[0.03333333333333333, 0.03333333333333333, 0.26666666666666666, 0.3333333333333333, 0.3333333333333333]\n",
      "1.484720560765545\n",
      "[0.03333333333333333, 0.06666666666666667, 0.2333333333333333, 0.3333333333333333, 0.3333333333333333]\n",
      "1.4846383443286384\n",
      "[0.03333333333333333, 0.09999999999999999, 0.19999999999999998, 0.3333333333333333, 0.3333333333333333]\n",
      "1.580142683079395\n",
      "[0.03333333333333333, 0.13333333333333333, 0.16666666666666666, 0.3333333333333333, 0.3333333333333333]\n",
      "1.5774168463388634\n",
      "[0.03333333333333333, 0.16666666666666666, 0.13333333333333333, 0.3333333333333333, 0.3333333333333333]\n",
      "1.4242887887108056\n",
      "[0.03333333333333333, 0.19999999999999998, 0.09999999999999999, 0.3333333333333333, 0.3333333333333333]\n",
      "1.4360874962826111\n",
      "[0.03333333333333333, 0.2333333333333333, 0.06666666666666667, 0.3333333333333333, 0.3333333333333333]\n",
      "1.1542660733477763\n",
      "[0.03333333333333333, 0.26666666666666666, 0.03333333333333333, 0.3333333333333333, 0.3333333333333333]\n",
      "1.1554475046720047\n",
      "[0.03333333333333333, 0.3, 0.0, 0.3333333333333333, 0.3333333333333333]\n",
      "1.9599829742934596\n",
      "[0.06666666666666667, 0.0, 0.26666666666666666, 0.3333333333333333, 0.3333333333333333]\n",
      "2.2125671764467145\n",
      "[0.06666666666666667, 0.03333333333333333, 0.2333333333333333, 0.3333333333333333, 0.3333333333333333]\n",
      "1.4567230812719472\n",
      "[0.06666666666666667, 0.06666666666666667, 0.19999999999999998, 0.3333333333333333, 0.3333333333333333]\n",
      "1.5237010443650214\n",
      "[0.06666666666666667, 0.09999999999999999, 0.16666666666666666, 0.3333333333333333, 0.3333333333333333]\n",
      "1.5007309322410656\n",
      "[0.06666666666666667, 0.13333333333333333, 0.13333333333333333, 0.3333333333333333, 0.3333333333333333]\n",
      "1.4577147444174738\n",
      "[0.06666666666666667, 0.16666666666666666, 0.09999999999999999, 0.3333333333333333, 0.3333333333333333]\n",
      "1.5264482656637768\n",
      "[0.06666666666666667, 0.19999999999999998, 0.06666666666666667, 0.3333333333333333, 0.3333333333333333]\n",
      "1.5361348261333334\n",
      "[0.06666666666666667, 0.2333333333333333, 0.03333333333333333, 0.3333333333333333, 0.3333333333333333]\n",
      "1.5422998158056456\n",
      "[0.06666666666666667, 0.26666666666666666, 0.0, 0.3333333333333333, 0.3333333333333333]\n",
      "1.483727928220115\n",
      "[0.09999999999999999, 0.0, 0.2333333333333333, 0.3333333333333333, 0.3333333333333333]\n",
      "1.6552937882459795\n",
      "[0.09999999999999999, 0.03333333333333333, 0.19999999999999998, 0.3333333333333333, 0.3333333333333333]\n",
      "1.4401531167396382\n",
      "[0.09999999999999999, 0.06666666666666667, 0.16666666666666666, 0.3333333333333333, 0.3333333333333333]\n",
      "1.493247973707179\n",
      "[0.09999999999999999, 0.09999999999999999, 0.13333333333333333, 0.3333333333333333, 0.3333333333333333]\n",
      "1.605099782741963\n",
      "[0.09999999999999999, 0.13333333333333333, 0.09999999999999999, 0.3333333333333333, 0.3333333333333333]\n",
      "1.5600876106871109\n",
      "[0.09999999999999999, 0.16666666666666666, 0.06666666666666667, 0.3333333333333333, 0.3333333333333333]\n",
      "1.5600876106871109\n",
      "[0.09999999999999999, 0.19999999999999998, 0.03333333333333333, 0.3333333333333333, 0.3333333333333333]\n",
      "1.5328079256879825\n",
      "[0.09999999999999999, 0.2333333333333333, 0.0, 0.3333333333333333, 0.3333333333333333]\n",
      "1.5605888534082901\n",
      "[0.13333333333333333, 0.0, 0.19999999999999998, 0.3333333333333333, 0.3333333333333333]\n",
      "1.6419612490248876\n",
      "[0.13333333333333333, 0.03333333333333333, 0.16666666666666666, 0.3333333333333333, 0.3333333333333333]\n",
      "1.365935291788908\n",
      "[0.13333333333333333, 0.06666666666666667, 0.13333333333333333, 0.3333333333333333, 0.3333333333333333]\n",
      "1.4406544654234255\n",
      "[0.13333333333333333, 0.09999999999999999, 0.09999999999999999, 0.3333333333333333, 0.3333333333333333]\n",
      "1.5662863630937671\n",
      "[0.13333333333333333, 0.13333333333333333, 0.06666666666666667, 0.3333333333333333, 0.3333333333333333]\n",
      "1.5575585427565992\n",
      "[0.13333333333333333, 0.16666666666666666, 0.03333333333333333, 0.3333333333333333, 0.3333333333333333]\n",
      "1.507801058906292\n",
      "[0.13333333333333333, 0.19999999999999998, 0.0, 0.3333333333333333, 0.3333333333333333]\n",
      "1.5457939202360986\n",
      "[0.16666666666666666, 0.0, 0.16666666666666666, 0.3333333333333333, 0.3333333333333333]\n",
      "1.6170388903986763\n",
      "[0.16666666666666666, 0.03333333333333333, 0.13333333333333333, 0.3333333333333333, 0.3333333333333333]\n",
      "1.4009206890128358\n",
      "[0.16666666666666666, 0.06666666666666667, 0.09999999999999999, 0.3333333333333333, 0.3333333333333333]\n",
      "1.4382748627499433\n",
      "[0.16666666666666666, 0.09999999999999999, 0.06666666666666667, 0.3333333333333333, 0.3333333333333333]\n",
      "1.3931265316289283\n",
      "[0.16666666666666666, 0.13333333333333333, 0.03333333333333333, 0.3333333333333333, 0.3333333333333333]\n",
      "1.506731834345263\n",
      "[0.16666666666666666, 0.16666666666666666, 0.0, 0.3333333333333333, 0.3333333333333333]\n",
      "1.546932840463827\n",
      "[0.19999999999999998, 0.0, 0.13333333333333333, 0.3333333333333333, 0.3333333333333333]\n",
      "1.7378678736415771\n",
      "[0.19999999999999998, 0.03333333333333333, 0.09999999999999999, 0.3333333333333333, 0.3333333333333333]\n",
      "1.4610672282362318\n",
      "[0.19999999999999998, 0.06666666666666667, 0.06666666666666667, 0.3333333333333333, 0.3333333333333333]\n",
      "1.4491350649977606\n",
      "[0.19999999999999998, 0.09999999999999999, 0.03333333333333333, 0.3333333333333333, 0.3333333333333333]\n",
      "1.4169517698503455\n",
      "[0.19999999999999998, 0.13333333333333333, 0.0, 0.3333333333333333, 0.3333333333333333]\n",
      "1.6491139008932882\n",
      "[0.2333333333333333, 0.0, 0.09999999999999999, 0.3333333333333333, 0.3333333333333333]\n",
      "1.6858588719998984\n",
      "[0.2333333333333333, 0.03333333333333333, 0.06666666666666667, 0.3333333333333333, 0.3333333333333333]\n",
      "1.6731973652757726\n",
      "[0.2333333333333333, 0.06666666666666667, 0.03333333333333333, 0.3333333333333333, 0.3333333333333333]\n",
      "1.6574302787380462\n",
      "[0.2333333333333333, 0.09999999999999999, 0.0, 0.3333333333333333, 0.3333333333333333]\n",
      "1.7135034451223983\n",
      "[0.26666666666666666, 0.0, 0.06666666666666667, 0.3333333333333333, 0.3333333333333333]\n",
      "2.0482035977080417\n",
      "[0.26666666666666666, 0.03333333333333333, 0.03333333333333333, 0.3333333333333333, 0.3333333333333333]\n",
      "1.877624050800279\n",
      "[0.26666666666666666, 0.06666666666666667, 0.0, 0.3333333333333333, 0.3333333333333333]\n",
      "1.8894367579852926\n",
      "[0.3, 0.0, 0.03333333333333333, 0.3333333333333333, 0.3333333333333333]\n",
      "1.719651844948311\n",
      "[0.3, 0.03333333333333333, 0.0, 0.3333333333333333, 0.3333333333333333]\n",
      "1.819552220508117\n",
      "[0.3333333333333333, 0.0, 0.0, 0.3333333333333333, 0.3333333333333333]\n",
      "1.7717582015292155\n",
      "CPU times: user 726 ms, sys: 65.3 ms, total: 791 ms\n",
      "Wall time: 927 ms\n"
     ]
    },
    {
     "data": {
      "image/png": "[encoded data removed]",
      "text/plain": [
       "<Figure size 432x288 with 2 Axes>"
      ]
     },
     "metadata": {
      "needs_background": "light"
     },
     "output_type": "display_data"
    }
   ],
   "source": [
    "%%time\n",
    "fig, ax = plt.subplots()\n",
    "#plot_system(ax, ('Co', 'Ta', 'Sb', 'Fe','Nb'), model, featurizer, am_index)\n",
    "df_data = []\n",
    "#sig_max = None\n",
    "#sig_min = None\n",
    "#counter = 1\n",
    "#plot_system(df_data, ax, ('Ta', 'Nb', 'V', 'Fe','Sb'), model, featurizer, am_index)\n",
    "#plot_system(df_data, ax, ('Hf', 'Ti', 'Zr', 'Ni','Sn'), model, featurizer, am_index)\n",
    "#plot_system(df_data, ax, ('Ta', 'Nb', 'V', 'Co','Sn'), model, featurizer, am_index)\n",
    "#plot_system(df_data, ax, ('Hf', 'Ti', 'Zr', 'Co','Sb'), model, featurizer, am_index)\n",
    "#plot_system(df_data, ax, ('Ta', 'Nb', 'V', 'Co','Sb'), model, featurizer, am_index)\n",
    "plot_system(df_data, ax, ('Ta', 'V', 'Nb', 'Fe','Sb'), model, featurizer, am_index)\n",
    "#plot_system(df_data, ax, ('Hf', 'Zr', 'Ti', 'Co','Sb'), model, featurizer, am_index)\n",
    "#plot_system(df_data, ax, ('Ta', 'V', 'Nb', 'Co','Sn'), model, featurizer, am_index)\n",
    "#print(df_data) \n",
    "#fig.savefig('Brown_TC_lolopy_EI.png', dpi=500)"
   ]
  },
  {
   "cell_type": "code",
   "execution_count": 431,
   "metadata": {},
   "outputs": [],
   "source": [
    "predicted_data = pd.DataFrame(df_data)"
   ]
  },
  {
   "cell_type": "code",
   "execution_count": 432,
   "metadata": {},
   "outputs": [
    {
     "data": {
      "text/html": [
       "<div>\n",
       "<style scoped>\n",
       "    .dataframe tbody tr th:only-of-type {\n",
       "        vertical-align: middle;\n",
       "    }\n",
       "\n",
       "    .dataframe tbody tr th {\n",
       "        vertical-align: top;\n",
       "    }\n",
       "\n",
       "    .dataframe thead th {\n",
       "        text-align: right;\n",
       "    }\n",
       "</style>\n",
       "<table border=\"1\" class=\"dataframe\">\n",
       "  <thead>\n",
       "    <tr style=\"text-align: right;\">\n",
       "      <th></th>\n",
       "      <th>0</th>\n",
       "      <th>1</th>\n",
       "      <th>2</th>\n",
       "      <th>3</th>\n",
       "      <th>4</th>\n",
       "      <th>5</th>\n",
       "    </tr>\n",
       "  </thead>\n",
       "  <tbody>\n",
       "    <tr>\n",
       "      <th>0</th>\n",
       "      <td>0.0</td>\n",
       "      <td>0.000000</td>\n",
       "      <td>0.333333</td>\n",
       "      <td>0.333333</td>\n",
       "      <td>0.333333</td>\n",
       "      <td>4.092071</td>\n",
       "    </tr>\n",
       "    <tr>\n",
       "      <th>1</th>\n",
       "      <td>0.0</td>\n",
       "      <td>0.033333</td>\n",
       "      <td>0.300000</td>\n",
       "      <td>0.333333</td>\n",
       "      <td>0.333333</td>\n",
       "      <td>2.337966</td>\n",
       "    </tr>\n",
       "    <tr>\n",
       "      <th>2</th>\n",
       "      <td>0.0</td>\n",
       "      <td>0.066667</td>\n",
       "      <td>0.266667</td>\n",
       "      <td>0.333333</td>\n",
       "      <td>0.333333</td>\n",
       "      <td>1.712747</td>\n",
       "    </tr>\n",
       "    <tr>\n",
       "      <th>3</th>\n",
       "      <td>0.0</td>\n",
       "      <td>0.100000</td>\n",
       "      <td>0.233333</td>\n",
       "      <td>0.333333</td>\n",
       "      <td>0.333333</td>\n",
       "      <td>0.821882</td>\n",
       "    </tr>\n",
       "    <tr>\n",
       "      <th>4</th>\n",
       "      <td>0.0</td>\n",
       "      <td>0.133333</td>\n",
       "      <td>0.200000</td>\n",
       "      <td>0.333333</td>\n",
       "      <td>0.333333</td>\n",
       "      <td>0.615144</td>\n",
       "    </tr>\n",
       "  </tbody>\n",
       "</table>\n",
       "</div>"
      ],
      "text/plain": [
       "     0         1         2         3         4         5\n",
       "0  0.0  0.000000  0.333333  0.333333  0.333333  4.092071\n",
       "1  0.0  0.033333  0.300000  0.333333  0.333333  2.337966\n",
       "2  0.0  0.066667  0.266667  0.333333  0.333333  1.712747\n",
       "3  0.0  0.100000  0.233333  0.333333  0.333333  0.821882\n",
       "4  0.0  0.133333  0.200000  0.333333  0.333333  0.615144"
      ]
     },
     "execution_count": 432,
     "metadata": {},
     "output_type": "execute_result"
    }
   ],
   "source": [
    "predicted_data.head()"
   ]
  },
  {
   "cell_type": "code",
   "execution_count": 434,
   "metadata": {},
   "outputs": [],
   "source": [
    "#predicted_data1 = predicted_data.set_axis(['Ta', 'V', 'Nb', 'Fe','Sb','Predicted lolopy TC'], axis=1, inplace=False)\n",
    "predicted_data1 = predicted_data.set_axis(['Ta', 'V', 'Nb', 'Fe','Sb','Uncertainty TC'], axis=1, inplace=False)"
   ]
  },
  {
   "cell_type": "code",
   "execution_count": 435,
   "metadata": {},
   "outputs": [
    {
     "data": {
      "text/html": [
       "<div>\n",
       "<style scoped>\n",
       "    .dataframe tbody tr th:only-of-type {\n",
       "        vertical-align: middle;\n",
       "    }\n",
       "\n",
       "    .dataframe tbody tr th {\n",
       "        vertical-align: top;\n",
       "    }\n",
       "\n",
       "    .dataframe thead th {\n",
       "        text-align: right;\n",
       "    }\n",
       "</style>\n",
       "<table border=\"1\" class=\"dataframe\">\n",
       "  <thead>\n",
       "    <tr style=\"text-align: right;\">\n",
       "      <th></th>\n",
       "      <th>Ta</th>\n",
       "      <th>V</th>\n",
       "      <th>Nb</th>\n",
       "      <th>Fe</th>\n",
       "      <th>Sb</th>\n",
       "      <th>Uncertainty TC</th>\n",
       "    </tr>\n",
       "  </thead>\n",
       "  <tbody>\n",
       "    <tr>\n",
       "      <th>0</th>\n",
       "      <td>0.0</td>\n",
       "      <td>0.000000</td>\n",
       "      <td>0.333333</td>\n",
       "      <td>0.333333</td>\n",
       "      <td>0.333333</td>\n",
       "      <td>4.092071</td>\n",
       "    </tr>\n",
       "    <tr>\n",
       "      <th>1</th>\n",
       "      <td>0.0</td>\n",
       "      <td>0.033333</td>\n",
       "      <td>0.300000</td>\n",
       "      <td>0.333333</td>\n",
       "      <td>0.333333</td>\n",
       "      <td>2.337966</td>\n",
       "    </tr>\n",
       "    <tr>\n",
       "      <th>2</th>\n",
       "      <td>0.0</td>\n",
       "      <td>0.066667</td>\n",
       "      <td>0.266667</td>\n",
       "      <td>0.333333</td>\n",
       "      <td>0.333333</td>\n",
       "      <td>1.712747</td>\n",
       "    </tr>\n",
       "    <tr>\n",
       "      <th>3</th>\n",
       "      <td>0.0</td>\n",
       "      <td>0.100000</td>\n",
       "      <td>0.233333</td>\n",
       "      <td>0.333333</td>\n",
       "      <td>0.333333</td>\n",
       "      <td>0.821882</td>\n",
       "    </tr>\n",
       "    <tr>\n",
       "      <th>4</th>\n",
       "      <td>0.0</td>\n",
       "      <td>0.133333</td>\n",
       "      <td>0.200000</td>\n",
       "      <td>0.333333</td>\n",
       "      <td>0.333333</td>\n",
       "      <td>0.615144</td>\n",
       "    </tr>\n",
       "  </tbody>\n",
       "</table>\n",
       "</div>"
      ],
      "text/plain": [
       "    Ta         V        Nb        Fe        Sb  Uncertainty TC\n",
       "0  0.0  0.000000  0.333333  0.333333  0.333333        4.092071\n",
       "1  0.0  0.033333  0.300000  0.333333  0.333333        2.337966\n",
       "2  0.0  0.066667  0.266667  0.333333  0.333333        1.712747\n",
       "3  0.0  0.100000  0.233333  0.333333  0.333333        0.821882\n",
       "4  0.0  0.133333  0.200000  0.333333  0.333333        0.615144"
      ]
     },
     "execution_count": 435,
     "metadata": {},
     "output_type": "execute_result"
    }
   ],
   "source": [
    "predicted_data1.head()"
   ]
  },
  {
   "cell_type": "code",
   "execution_count": 436,
   "metadata": {},
   "outputs": [
    {
     "data": {
      "text/plain": [
       "0    4.092071\n",
       "1    2.337966\n",
       "2    1.712747\n",
       "3    0.821882\n",
       "4    0.615144\n",
       "Name: Uncertainty TC, dtype: float64"
      ]
     },
     "execution_count": 436,
     "metadata": {},
     "output_type": "execute_result"
    }
   ],
   "source": [
    "pred_sig = predicted_data1.iloc[:, -1]\n",
    "pred_sig.head()"
   ]
  },
  {
   "cell_type": "code",
   "execution_count": 437,
   "metadata": {},
   "outputs": [
    {
     "data": {
      "text/html": [
       "<div>\n",
       "<style scoped>\n",
       "    .dataframe tbody tr th:only-of-type {\n",
       "        vertical-align: middle;\n",
       "    }\n",
       "\n",
       "    .dataframe tbody tr th {\n",
       "        vertical-align: top;\n",
       "    }\n",
       "\n",
       "    .dataframe thead th {\n",
       "        text-align: right;\n",
       "    }\n",
       "</style>\n",
       "<table border=\"1\" class=\"dataframe\">\n",
       "  <thead>\n",
       "    <tr style=\"text-align: right;\">\n",
       "      <th></th>\n",
       "      <th>Ta</th>\n",
       "      <th>V</th>\n",
       "      <th>Nb</th>\n",
       "      <th>Fe</th>\n",
       "      <th>Sb</th>\n",
       "    </tr>\n",
       "  </thead>\n",
       "  <tbody>\n",
       "    <tr>\n",
       "      <th>0</th>\n",
       "      <td>0.0</td>\n",
       "      <td>0.000000</td>\n",
       "      <td>0.333333</td>\n",
       "      <td>0.333333</td>\n",
       "      <td>0.333333</td>\n",
       "    </tr>\n",
       "    <tr>\n",
       "      <th>1</th>\n",
       "      <td>0.0</td>\n",
       "      <td>0.033333</td>\n",
       "      <td>0.300000</td>\n",
       "      <td>0.333333</td>\n",
       "      <td>0.333333</td>\n",
       "    </tr>\n",
       "    <tr>\n",
       "      <th>2</th>\n",
       "      <td>0.0</td>\n",
       "      <td>0.066667</td>\n",
       "      <td>0.266667</td>\n",
       "      <td>0.333333</td>\n",
       "      <td>0.333333</td>\n",
       "    </tr>\n",
       "    <tr>\n",
       "      <th>3</th>\n",
       "      <td>0.0</td>\n",
       "      <td>0.100000</td>\n",
       "      <td>0.233333</td>\n",
       "      <td>0.333333</td>\n",
       "      <td>0.333333</td>\n",
       "    </tr>\n",
       "    <tr>\n",
       "      <th>4</th>\n",
       "      <td>0.0</td>\n",
       "      <td>0.133333</td>\n",
       "      <td>0.200000</td>\n",
       "      <td>0.333333</td>\n",
       "      <td>0.333333</td>\n",
       "    </tr>\n",
       "  </tbody>\n",
       "</table>\n",
       "</div>"
      ],
      "text/plain": [
       "    Ta         V        Nb        Fe        Sb\n",
       "0  0.0  0.000000  0.333333  0.333333  0.333333\n",
       "1  0.0  0.033333  0.300000  0.333333  0.333333\n",
       "2  0.0  0.066667  0.266667  0.333333  0.333333\n",
       "3  0.0  0.100000  0.233333  0.333333  0.333333\n",
       "4  0.0  0.133333  0.200000  0.333333  0.333333"
      ]
     },
     "execution_count": 437,
     "metadata": {},
     "output_type": "execute_result"
    }
   ],
   "source": [
    "comp_data = predicted_data1.iloc[:, 0:5]\n",
    "comp_data.head()"
   ]
  },
  {
   "cell_type": "code",
   "execution_count": 438,
   "metadata": {},
   "outputs": [],
   "source": [
    "composition = comp_data.mul(3)"
   ]
  },
  {
   "cell_type": "code",
   "execution_count": 439,
   "metadata": {},
   "outputs": [],
   "source": [
    "predicted_property = pd.concat([composition, pred_sig], axis = 1)"
   ]
  },
  {
   "cell_type": "code",
   "execution_count": 440,
   "metadata": {},
   "outputs": [
    {
     "data": {
      "text/html": [
       "<div>\n",
       "<style scoped>\n",
       "    .dataframe tbody tr th:only-of-type {\n",
       "        vertical-align: middle;\n",
       "    }\n",
       "\n",
       "    .dataframe tbody tr th {\n",
       "        vertical-align: top;\n",
       "    }\n",
       "\n",
       "    .dataframe thead th {\n",
       "        text-align: right;\n",
       "    }\n",
       "</style>\n",
       "<table border=\"1\" class=\"dataframe\">\n",
       "  <thead>\n",
       "    <tr style=\"text-align: right;\">\n",
       "      <th></th>\n",
       "      <th>Ta</th>\n",
       "      <th>V</th>\n",
       "      <th>Nb</th>\n",
       "      <th>Fe</th>\n",
       "      <th>Sb</th>\n",
       "      <th>Uncertainty TC</th>\n",
       "    </tr>\n",
       "  </thead>\n",
       "  <tbody>\n",
       "    <tr>\n",
       "      <th>0</th>\n",
       "      <td>0.0</td>\n",
       "      <td>0.0</td>\n",
       "      <td>1.0</td>\n",
       "      <td>1.0</td>\n",
       "      <td>1.0</td>\n",
       "      <td>4.092071</td>\n",
       "    </tr>\n",
       "    <tr>\n",
       "      <th>1</th>\n",
       "      <td>0.0</td>\n",
       "      <td>0.1</td>\n",
       "      <td>0.9</td>\n",
       "      <td>1.0</td>\n",
       "      <td>1.0</td>\n",
       "      <td>2.337966</td>\n",
       "    </tr>\n",
       "    <tr>\n",
       "      <th>2</th>\n",
       "      <td>0.0</td>\n",
       "      <td>0.2</td>\n",
       "      <td>0.8</td>\n",
       "      <td>1.0</td>\n",
       "      <td>1.0</td>\n",
       "      <td>1.712747</td>\n",
       "    </tr>\n",
       "    <tr>\n",
       "      <th>3</th>\n",
       "      <td>0.0</td>\n",
       "      <td>0.3</td>\n",
       "      <td>0.7</td>\n",
       "      <td>1.0</td>\n",
       "      <td>1.0</td>\n",
       "      <td>0.821882</td>\n",
       "    </tr>\n",
       "    <tr>\n",
       "      <th>4</th>\n",
       "      <td>0.0</td>\n",
       "      <td>0.4</td>\n",
       "      <td>0.6</td>\n",
       "      <td>1.0</td>\n",
       "      <td>1.0</td>\n",
       "      <td>0.615144</td>\n",
       "    </tr>\n",
       "  </tbody>\n",
       "</table>\n",
       "</div>"
      ],
      "text/plain": [
       "    Ta    V   Nb   Fe   Sb  Uncertainty TC\n",
       "0  0.0  0.0  1.0  1.0  1.0        4.092071\n",
       "1  0.0  0.1  0.9  1.0  1.0        2.337966\n",
       "2  0.0  0.2  0.8  1.0  1.0        1.712747\n",
       "3  0.0  0.3  0.7  1.0  1.0        0.821882\n",
       "4  0.0  0.4  0.6  1.0  1.0        0.615144"
      ]
     },
     "execution_count": 440,
     "metadata": {},
     "output_type": "execute_result"
    }
   ],
   "source": [
    "predicted_property.head()"
   ]
  },
  {
   "cell_type": "code",
   "execution_count": 441,
   "metadata": {},
   "outputs": [],
   "source": [
    "#predicted_property.to_csv('Red_family_predicted_TC_lolopy.csv')\n",
    "predicted_property.to_csv('Red_family_predicted_TC_lolopy_uncertainty.csv')"
   ]
  },
  {
   "cell_type": "code",
   "execution_count": null,
   "metadata": {},
   "outputs": [],
   "source": []
  }
 ],
 "metadata": {
  "kernelspec": {
   "display_name": "Python 3",
   "language": "python",
   "name": "python3"
  },
  "language_info": {
   "codemirror_mode": {
    "name": "ipython",
    "version": 3
   },
   "file_extension": ".py",
   "mimetype": "text/x-python",
   "name": "python",
   "nbconvert_exporter": "python",
   "pygments_lexer": "ipython3",
   "version": "3.7.6"
  },
  "varInspector": {
   "cols": {
    "lenName": 16,
    "lenType": 16,
    "lenVar": 40
   },
   "kernels_config": {
    "python": {
     "delete_cmd_postfix": "",
     "delete_cmd_prefix": "del ",
     "library": "var_list.py",
     "varRefreshCmd": "print(var_dic_list())"
    },
    "r": {
     "delete_cmd_postfix": ") ",
     "delete_cmd_prefix": "rm(",
     "library": "var_list.r",
     "varRefreshCmd": "cat(var_dic_list()) "
    }
   },
   "types_to_exclude": [
    "module",
    "function",
    "builtin_function_or_method",
    "instance",
    "_Feature"
   ],
   "window_display": false
  },
  "widgets": {
   "application/vnd.jupyter.widget-state+json": {
    "state": {},
    "version_major": 2,
    "version_minor": 0
   }
  }
 },
 "nbformat": 4,
 "nbformat_minor": 2
}
